{
  "nbformat": 4,
  "nbformat_minor": 0,
  "metadata": {
    "colab": {
      "name": "teachable_machine_sample.ipynb ",
      "provenance": [],
      "collapsed_sections": [],
      "include_colab_link": true
    },
    "kernelspec": {
      "name": "python3",
      "display_name": "Python 3"
    }
  },
  "cells": [
    {
      "cell_type": "markdown",
      "metadata": {
        "id": "view-in-github",
        "colab_type": "text"
      },
      "source": [
        "<a href=\"https://colab.research.google.com/github/heko0826/HobbyColabProjects/blob/main/teachable_machine_sample.ipynb\" target=\"_parent\"><img src=\"https://colab.research.google.com/assets/colab-badge.svg\" alt=\"Open In Colab\"/></a>"
      ]
    },
    {
      "cell_type": "markdown",
      "metadata": {
        "id": "9duzzorgTWLt"
      },
      "source": [
        "# Use web camera in real-time on google colaboratory by callback\n",
        "This version is simple and stable but low framerate."
      ]
    },
    {
      "cell_type": "code",
      "metadata": {
        "colab": {
          "base_uri": "https://localhost:8080/"
        },
        "id": "VLXMDTzBY7gh",
        "outputId": "0cd1b678-83d9-4e15-8c78-fad51b4d868d"
      },
      "source": [
        "!git clone https://github.com/heko0826/HobbyColabProjects.git"
      ],
      "execution_count": 2,
      "outputs": [
        {
          "output_type": "stream",
          "text": [
            "Cloning into 'HobbyColabProjects'...\n",
            "remote: Enumerating objects: 14, done.\u001b[K\n",
            "remote: Counting objects: 100% (14/14), done.\u001b[K\n",
            "remote: Compressing objects: 100% (12/12), done.\u001b[K\n",
            "remote: Total 14 (delta 2), reused 0 (delta 0), pack-reused 0\u001b[K\n",
            "Unpacking objects: 100% (14/14), done.\n"
          ],
          "name": "stdout"
        }
      ]
    },
    {
      "cell_type": "code",
      "metadata": {
        "colab": {
          "base_uri": "https://localhost:8080/"
        },
        "id": "wuyIfY_UY-xU",
        "outputId": "b764e054-d480-41c7-8062-dd0054dcfd1b"
      },
      "source": [
        "import tensorflow.keras\n",
        "import numpy as np\n",
        "import cv2\n",
        "\n",
        "# Disable scientific notation for clarity\n",
        "np.set_printoptions(suppress=True)\n",
        "\n",
        "# Load the model\n",
        "MODEL_DIR = \"./HobbyColabProjects/converted_keras/\"\n",
        "model = tensorflow.keras.models.load_model(MODEL_DIR + 'keras_model.h5')\n",
        "\n",
        "# load labels\n",
        "with open(MODEL_DIR + \"labels.txt\", \"rt\", encoding=\"utf-8\") as f:\n",
        "  data = list(f)\n",
        "labels = [i[2:-1] for i in data]\n",
        "\n",
        "\n",
        "# Create the array of the right shape to feed into the keras model\n",
        "# The 'length' or number of images you can put into the array is\n",
        "# determined by the first position in the shape tuple, in this case 1.\n",
        "data = np.ndarray(shape=(1, 224, 224, 3), dtype=np.float32)\n",
        "\n",
        "\n",
        "#resize the image to a 224x224 with the same strategy as in TM2:\n",
        "#resizing the image to be at least 224x224 and then cropping from the center\n",
        "def predict(image):\n",
        "  size = (224, 224)\n",
        "  image_array = cv2.resize(image, size)\n",
        "\n",
        "  # Normalize the image\n",
        "  normalized_image_array = (image_array.astype(np.float32) / 127.0) - 1\n",
        "\n",
        "  # Load the image into the array\n",
        "  data[0] = normalized_image_array\n",
        "\n",
        "  # run the inference\n",
        "  prediction = model.predict(data)\n",
        "  # print(prediction)\n",
        "  # print(labels[prediction[0].argmax()])\n",
        "  cv2.putText(image_array, text=labels[prediction[0].argmax()], org=(50, 100),\n",
        "              fontFace=cv2.FONT_HERSHEY_SIMPLEX, fontScale=1.0, color=(0, 255, 0),\n",
        "              thickness=2, lineType=cv2.LINE_4)\n",
        "  return cv2.resize(image_array, (image.shape[1], image.shape[0]))"
      ],
      "execution_count": 34,
      "outputs": [
        {
          "output_type": "stream",
          "text": [
            "WARNING:tensorflow:No training configuration found in the save file, so the model was *not* compiled. Compile it manually.\n"
          ],
          "name": "stdout"
        }
      ]
    },
    {
      "cell_type": "code",
      "metadata": {
        "id": "YCzZhYPoTjZn"
      },
      "source": [
        "import IPython\n",
        "from google.colab import output\n",
        "from PIL import Image\n",
        "from io import BytesIO\n",
        "import base64\n",
        "\n",
        "def run(img_str):\n",
        "    #decode to image\n",
        "    decimg = base64.b64decode(img_str.split(',')[1], validate=True)\n",
        "    decimg = Image.open(BytesIO(decimg))\n",
        "    decimg = np.array(decimg, dtype=np.uint8)\n",
        "    decimg = cv2.cvtColor(decimg, cv2.COLOR_BGR2RGB)\n",
        "    \n",
        "    #############your process###############\n",
        "\n",
        "    out_img = predict(decimg)\n",
        "    \n",
        "    # out_img = cv2.Canny(decimg,100,200)\n",
        "    # out_img = decimg\n",
        "    \n",
        "    #############your process###############\n",
        "\n",
        "    #encode to string\n",
        "    _, encimg = cv2.imencode(\".jpg\", out_img, [int(cv2.IMWRITE_JPEG_QUALITY), 80])\n",
        "    img_str = encimg.tostring()\n",
        "    img_str = \"data:image/jpeg;base64,\" + base64.b64encode(img_str).decode('utf-8')\n",
        "    return IPython.display.JSON({'img_str': img_str})\n",
        "\n",
        "output.register_callback('notebook.run', run)"
      ],
      "execution_count": 13,
      "outputs": []
    },
    {
      "cell_type": "code",
      "metadata": {
        "id": "gt2Ti8x5UdE9"
      },
      "source": [
        "from IPython.display import display, Javascript\n",
        "from google.colab.output import eval_js\n",
        "\n",
        "def use_cam(quality=0.8):\n",
        "  js = Javascript('''\n",
        "    async function useCam(quality) {\n",
        "      const div = document.createElement('div');\n",
        "      document.body.appendChild(div);\n",
        "      //video element\n",
        "      const video = document.createElement('video');\n",
        "      video.style.display = 'None';\n",
        "      const stream = await navigator.mediaDevices.getUserMedia({video: true});\n",
        "      div.appendChild(video);\n",
        "      video.srcObject = stream;\n",
        "      await video.play();\n",
        "      \n",
        "      //canvas for display. frame rate is depending on display size and jpeg quality.\n",
        "      display_size = 500 \n",
        "      const src_canvas = document.createElement('canvas');\n",
        "      src_canvas.width  = display_size;\n",
        "      src_canvas.height = display_size * video.videoHeight / video.videoWidth;\n",
        "      const src_canvasCtx = src_canvas.getContext('2d');\n",
        "      src_canvasCtx.translate(src_canvas.width, 0);\n",
        "      src_canvasCtx.scale(-1, 1);\n",
        "      div.appendChild(src_canvas);\n",
        "\n",
        "      const dst_canvas = document.createElement('canvas');\n",
        "      dst_canvas.width  = src_canvas.width;\n",
        "      dst_canvas.height = src_canvas.height;\n",
        "      const dst_canvasCtx = dst_canvas.getContext('2d');\n",
        "      div.appendChild(dst_canvas);\n",
        "      \n",
        "      //exit button\n",
        "      const btn_div = document.createElement('div');\n",
        "      document.body.appendChild(btn_div);\n",
        "      const exit_btn = document.createElement('button');\n",
        "      exit_btn.textContent = 'Exit';\n",
        "      var exit_flg = true\n",
        "      exit_btn.onclick = function() {exit_flg = false};\n",
        "      btn_div.appendChild(exit_btn);\n",
        "\n",
        "      // Resize the output to fit the video element.\n",
        "      google.colab.output.setIframeHeight(document.documentElement.scrollHeight, true);\n",
        "      \n",
        "      var send_flg = false\n",
        "      // loop\n",
        "      _canvasUpdate();\n",
        "      async function _canvasUpdate() {\n",
        "            src_canvasCtx.drawImage(video, 0, 0, video.videoWidth, video.videoHeight, 0, 0, src_canvas.width, src_canvas.height);     \n",
        "            if (send_flg==false){\n",
        "                send_flg = true\n",
        "                const img = src_canvas.toDataURL('image/jpeg', quality);\n",
        "                const result = google.colab.kernel.invokeFunction('notebook.run', [img], {});\n",
        "                result.then(function(value) {\n",
        "                    parse = JSON.parse(JSON.stringify(value))[\"data\"]\n",
        "                    parse = JSON.parse(JSON.stringify(parse))[\"application/json\"]\n",
        "                    parse = JSON.parse(JSON.stringify(parse))[\"img_str\"]\n",
        "                    var image = new Image()\n",
        "                    image.src = parse;\n",
        "                    image.onload = function(){dst_canvasCtx.drawImage(image, 0, 0)}\n",
        "                    send_flg = false\n",
        "                })\n",
        "            }\n",
        "            if (exit_flg){\n",
        "                requestAnimationFrame(_canvasUpdate);   \n",
        "            }else{\n",
        "                stream.getVideoTracks()[0].stop();\n",
        "            }\n",
        "      };\n",
        "    }\n",
        "    ''')\n",
        "  display(js)\n",
        "  data = eval_js('useCam({})'.format(quality))"
      ],
      "execution_count": 9,
      "outputs": []
    },
    {
      "cell_type": "code",
      "metadata": {
        "id": "JZu8MCn3VEXM",
        "colab": {
          "base_uri": "https://localhost:8080/",
          "height": 1000
        },
        "outputId": "be858361-e85b-4d05-b5b5-77d3c14c9088"
      },
      "source": [
        "use_cam()"
      ],
      "execution_count": 35,
      "outputs": [
        {
          "output_type": "display_data",
          "data": {
            "application/javascript": [
              "\n",
              "    async function useCam(quality) {\n",
              "      const div = document.createElement('div');\n",
              "      document.body.appendChild(div);\n",
              "      //video element\n",
              "      const video = document.createElement('video');\n",
              "      video.style.display = 'None';\n",
              "      const stream = await navigator.mediaDevices.getUserMedia({video: true});\n",
              "      div.appendChild(video);\n",
              "      video.srcObject = stream;\n",
              "      await video.play();\n",
              "      \n",
              "      //canvas for display. frame rate is depending on display size and jpeg quality.\n",
              "      display_size = 500 \n",
              "      const src_canvas = document.createElement('canvas');\n",
              "      src_canvas.width  = display_size;\n",
              "      src_canvas.height = display_size * video.videoHeight / video.videoWidth;\n",
              "      const src_canvasCtx = src_canvas.getContext('2d');\n",
              "      src_canvasCtx.translate(src_canvas.width, 0);\n",
              "      src_canvasCtx.scale(-1, 1);\n",
              "      div.appendChild(src_canvas);\n",
              "\n",
              "      const dst_canvas = document.createElement('canvas');\n",
              "      dst_canvas.width  = src_canvas.width;\n",
              "      dst_canvas.height = src_canvas.height;\n",
              "      const dst_canvasCtx = dst_canvas.getContext('2d');\n",
              "      div.appendChild(dst_canvas);\n",
              "      \n",
              "      //exit button\n",
              "      const btn_div = document.createElement('div');\n",
              "      document.body.appendChild(btn_div);\n",
              "      const exit_btn = document.createElement('button');\n",
              "      exit_btn.textContent = 'Exit';\n",
              "      var exit_flg = true\n",
              "      exit_btn.onclick = function() {exit_flg = false};\n",
              "      btn_div.appendChild(exit_btn);\n",
              "\n",
              "      // Resize the output to fit the video element.\n",
              "      google.colab.output.setIframeHeight(document.documentElement.scrollHeight, true);\n",
              "      \n",
              "      var send_flg = false\n",
              "      // loop\n",
              "      _canvasUpdate();\n",
              "      async function _canvasUpdate() {\n",
              "            src_canvasCtx.drawImage(video, 0, 0, video.videoWidth, video.videoHeight, 0, 0, src_canvas.width, src_canvas.height);     \n",
              "            if (send_flg==false){\n",
              "                send_flg = true\n",
              "                const img = src_canvas.toDataURL('image/jpeg', quality);\n",
              "                const result = google.colab.kernel.invokeFunction('notebook.run', [img], {});\n",
              "                result.then(function(value) {\n",
              "                    parse = JSON.parse(JSON.stringify(value))[\"data\"]\n",
              "                    parse = JSON.parse(JSON.stringify(parse))[\"application/json\"]\n",
              "                    parse = JSON.parse(JSON.stringify(parse))[\"img_str\"]\n",
              "                    var image = new Image()\n",
              "                    image.src = parse;\n",
              "                    image.onload = function(){dst_canvasCtx.drawImage(image, 0, 0)}\n",
              "                    send_flg = false\n",
              "                })\n",
              "            }\n",
              "            if (exit_flg){\n",
              "                requestAnimationFrame(_canvasUpdate);   \n",
              "            }else{\n",
              "                stream.getVideoTracks()[0].stop();\n",
              "            }\n",
              "      };\n",
              "    }\n",
              "    "
            ],
            "text/plain": [
              "<IPython.core.display.Javascript object>"
            ]
          },
          "metadata": {
            "tags": []
          }
        },
        {
          "output_type": "stream",
          "text": [
            "/usr/local/lib/python3.7/dist-packages/ipykernel_launcher.py:25: DeprecationWarning: tostring() is deprecated. Use tobytes() instead.\n",
            "/usr/local/lib/python3.7/dist-packages/ipykernel_launcher.py:25: DeprecationWarning: tostring() is deprecated. Use tobytes() instead.\n",
            "/usr/local/lib/python3.7/dist-packages/ipykernel_launcher.py:25: DeprecationWarning: tostring() is deprecated. Use tobytes() instead.\n",
            "/usr/local/lib/python3.7/dist-packages/ipykernel_launcher.py:25: DeprecationWarning: tostring() is deprecated. Use tobytes() instead.\n",
            "/usr/local/lib/python3.7/dist-packages/ipykernel_launcher.py:25: DeprecationWarning: tostring() is deprecated. Use tobytes() instead.\n",
            "/usr/local/lib/python3.7/dist-packages/ipykernel_launcher.py:25: DeprecationWarning: tostring() is deprecated. Use tobytes() instead.\n",
            "/usr/local/lib/python3.7/dist-packages/ipykernel_launcher.py:25: DeprecationWarning: tostring() is deprecated. Use tobytes() instead.\n",
            "/usr/local/lib/python3.7/dist-packages/ipykernel_launcher.py:25: DeprecationWarning: tostring() is deprecated. Use tobytes() instead.\n",
            "/usr/local/lib/python3.7/dist-packages/ipykernel_launcher.py:25: DeprecationWarning: tostring() is deprecated. Use tobytes() instead.\n",
            "/usr/local/lib/python3.7/dist-packages/ipykernel_launcher.py:25: DeprecationWarning: tostring() is deprecated. Use tobytes() instead.\n",
            "/usr/local/lib/python3.7/dist-packages/ipykernel_launcher.py:25: DeprecationWarning: tostring() is deprecated. Use tobytes() instead.\n",
            "/usr/local/lib/python3.7/dist-packages/ipykernel_launcher.py:25: DeprecationWarning: tostring() is deprecated. Use tobytes() instead.\n",
            "/usr/local/lib/python3.7/dist-packages/ipykernel_launcher.py:25: DeprecationWarning: tostring() is deprecated. Use tobytes() instead.\n",
            "/usr/local/lib/python3.7/dist-packages/ipykernel_launcher.py:25: DeprecationWarning: tostring() is deprecated. Use tobytes() instead.\n",
            "/usr/local/lib/python3.7/dist-packages/ipykernel_launcher.py:25: DeprecationWarning: tostring() is deprecated. Use tobytes() instead.\n",
            "/usr/local/lib/python3.7/dist-packages/ipykernel_launcher.py:25: DeprecationWarning: tostring() is deprecated. Use tobytes() instead.\n",
            "/usr/local/lib/python3.7/dist-packages/ipykernel_launcher.py:25: DeprecationWarning: tostring() is deprecated. Use tobytes() instead.\n"
          ],
          "name": "stderr"
        }
      ]
    }
  ]
}