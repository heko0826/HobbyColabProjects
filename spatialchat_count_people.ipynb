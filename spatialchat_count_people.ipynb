{
  "nbformat": 4,
  "nbformat_minor": 0,
  "metadata": {
    "colab": {
      "name": "spatialchat_count_people.ipynb",
      "provenance": [],
      "collapsed_sections": [],
      "authorship_tag": "ABX9TyOgvA2v6iOsc4icIolYnm5L",
      "include_colab_link": true
    },
    "kernelspec": {
      "name": "python3",
      "display_name": "Python 3"
    },
    "language_info": {
      "name": "python"
    }
  },
  "cells": [
    {
      "cell_type": "markdown",
      "metadata": {
        "id": "view-in-github",
        "colab_type": "text"
      },
      "source": [
        "<a href=\"https://colab.research.google.com/github/heko0826/HobbyColabProjects/blob/main/spatialchat_count_people.ipynb\" target=\"_parent\"><img src=\"https://colab.research.google.com/assets/colab-badge.svg\" alt=\"Open In Colab\"/></a>"
      ]
    },
    {
      "cell_type": "markdown",
      "metadata": {
        "id": "5PeQFZis3l6i"
      },
      "source": [
        "\n",
        "# スクレイピングでspatialchatに今参加している人数をチェックしよう\n",
        "- 参考URL\n",
        "  - https://codechacha.com/ja/selenium-explicit-implicit-wait/\n",
        "  - https://trend-tracer.com/screenshot-python/\n",
        "  - https://office54.net/python/scraping/selenium-click-exception#:~:text=ElementClickInterceptedException%E3%81%A8%E3%81%AF,-%E3%82%A8%E3%83%A9%E3%83%BC%EF%BC%88%E4%BE%8B%E5%A4%96%EF%BC%89%E5%86%85%E5%AE%B9&text=%E3%81%93%E3%81%AE%E3%82%A8%E3%83%A9%E3%83%BC%E3%81%AF%E3%80%8C%E3%83%A1%E3%83%83%E3%82%BB%E3%83%BC%E3%82%B8%EF%BC%9A%E3%82%A8%E3%83%AC%E3%83%A1%E3%83%B3%E3%83%88,%E3%81%AA%E3%81%8B%E3%81%A3%E3%81%9F%E3%80%8D%E3%81%A8%E3%81%84%E3%81%86%E5%86%85%E5%AE%B9%E3%81%A7%E3%81%99%E3%80%82\n",
        "  - https://qiita.com/kinpira/items/383b0fbee6bf229ea03d"
      ]
    },
    {
      "cell_type": "code",
      "metadata": {
        "colab": {
          "base_uri": "https://localhost:8080/"
        },
        "id": "uZUCSBurYHLB",
        "cellView": "form",
        "outputId": "bef209a6-dd3e-49cd-d3a8-7471ed4d64de"
      },
      "source": [
        "#@title seleniumのinstall\n",
        "!pip install selenium\n",
        "# !pip freeze"
      ],
      "execution_count": null,
      "outputs": [
        {
          "output_type": "stream",
          "text": [
            "Requirement already satisfied: selenium in /usr/local/lib/python3.7/dist-packages (3.141.0)\n",
            "Requirement already satisfied: urllib3 in /usr/local/lib/python3.7/dist-packages (from selenium) (1.24.3)\n"
          ],
          "name": "stdout"
        }
      ]
    },
    {
      "cell_type": "code",
      "metadata": {
        "colab": {
          "base_uri": "https://localhost:8080/"
        },
        "id": "gsnxHOzhYQiJ",
        "cellView": "form",
        "outputId": "9637cc7d-b36f-47e8-a318-f241b1afda1c"
      },
      "source": [
        "#@title chromeをヘッドレス実行するために必要なものをinstallする\n",
        "\n",
        "!apt-get update\n",
        "!apt install chromium-chromedriver\n",
        "!cp /usr/lib/chromium-browser/chromedriver/ usr/bin"
      ],
      "execution_count": null,
      "outputs": [
        {
          "output_type": "stream",
          "text": [
            "\r0% [Working]\r            \rHit:1 http://security.ubuntu.com/ubuntu bionic-security InRelease\n",
            "\r0% [Connecting to archive.ubuntu.com (91.189.88.152)] [Connected to cloud.r-pro\r0% [1 InRelease gpgv 88.7 kB] [Connecting to archive.ubuntu.com (91.189.88.152)\r                                                                               \rHit:2 https://cloud.r-project.org/bin/linux/ubuntu bionic-cran40/ InRelease\n",
            "\r0% [1 InRelease gpgv 88.7 kB] [Connecting to archive.ubuntu.com (91.189.88.152)\r                                                                               \rIgn:3 https://developer.download.nvidia.com/compute/cuda/repos/ubuntu1804/x86_64  InRelease\n",
            "\r0% [1 InRelease gpgv 88.7 kB] [Waiting for headers] [Waiting for headers] [Wait\r                                                                               \rHit:4 http://ppa.launchpad.net/c2d4u.team/c2d4u4.0+/ubuntu bionic InRelease\n",
            "\r0% [1 InRelease gpgv 88.7 kB] [Waiting for headers] [Connecting to ppa.launchpa\r                                                                               \rHit:5 http://archive.ubuntu.com/ubuntu bionic InRelease\n",
            "\r0% [1 InRelease gpgv 88.7 kB] [Waiting for headers] [Connecting to ppa.launchpa\r                                                                               \rIgn:6 https://developer.download.nvidia.com/compute/machine-learning/repos/ubuntu1804/x86_64  InRelease\n",
            "\r0% [1 InRelease gpgv 88.7 kB] [Waiting for headers] [Connecting to ppa.launchpa\r                                                                               \rHit:7 https://developer.download.nvidia.com/compute/cuda/repos/ubuntu1804/x86_64  Release\n",
            "Hit:8 https://developer.download.nvidia.com/compute/machine-learning/repos/ubuntu1804/x86_64  Release\n",
            "Hit:9 http://archive.ubuntu.com/ubuntu bionic-updates InRelease\n",
            "Hit:10 http://ppa.launchpad.net/cran/libgit2/ubuntu bionic InRelease\n",
            "Hit:11 http://archive.ubuntu.com/ubuntu bionic-backports InRelease\n",
            "Hit:12 http://ppa.launchpad.net/deadsnakes/ppa/ubuntu bionic InRelease\n",
            "Hit:13 http://ppa.launchpad.net/graphics-drivers/ppa/ubuntu bionic InRelease\n",
            "Reading package lists... Done\n",
            "Reading package lists... Done\n",
            "Building dependency tree       \n",
            "Reading state information... Done\n",
            "chromium-chromedriver is already the newest version (92.0.4515.159-0ubuntu0.18.04.1).\n",
            "The following package was automatically installed and is no longer required:\n",
            "  libnvidia-common-460\n",
            "Use 'apt autoremove' to remove it.\n",
            "0 upgraded, 0 newly installed, 0 to remove and 50 not upgraded.\n",
            "cp: cannot stat '/usr/lib/chromium-browser/chromedriver/': Not a directory\n"
          ],
          "name": "stdout"
        }
      ]
    },
    {
      "cell_type": "code",
      "metadata": {
        "id": "4yL8mu1vZrqN",
        "cellView": "form"
      },
      "source": [
        "#@title importなど、実行するために必要なことを準備する\n",
        "from selenium import webdriver\n",
        "from selenium.webdriver.chrome.options import Options\n",
        "from bs4 import BeautifulSoup\n",
        "# 待機用ライブラリ\n",
        "from selenium.webdriver.common.by import By\n",
        "from selenium.webdriver.support.ui import WebDriverWait\n",
        "from selenium.webdriver.support import expected_conditions as EC\n",
        "\n",
        "options = webdriver.ChromeOptions()\n",
        "options.add_argument(\"--headless\")\n",
        "options.add_argument(\"--no-sandbox\")\n",
        "options.add_argument(\"--disable-dev-shm-usage\")"
      ],
      "execution_count": null,
      "outputs": []
    },
    {
      "cell_type": "code",
      "metadata": {
        "id": "LFpxx9y9tnLp"
      },
      "source": [
        "BASE_URL = \"\"\n",
        "password = \"\"\n",
        "PASS_URL = BASE_URL + \"?sp=\" + password"
      ],
      "execution_count": null,
      "outputs": []
    },
    {
      "cell_type": "code",
      "metadata": {
        "id": "Rehn_AvhYrUv",
        "colab": {
          "base_uri": "https://localhost:8080/"
        },
        "outputId": "dcbf13f2-7eb4-4c03-d190-191778977ff1"
      },
      "source": [
        "try:\n",
        "  driver = webdriver.Chrome(\"chromedriver\", options=options)\n",
        "  driver.set_page_load_timeout(10)\n",
        "  driver.set_window_size(\"1200\", \"1000\")\n",
        "  driver.get(PASS_URL)\n",
        "  # ページ上の全ての要素が読み込まれるまで待機(15秒でタイムアウト判定)\n",
        "  wait = WebDriverWait(driver, 30)\n",
        "  # <button class=\"base-button space-entrance__accept-btn primary\" data-qa=\"space-continue-button\" data-v-156f8086=\"\" form=\"user-about-form\" type=\"submit\">Continue</button>\n",
        "  # がクリック可能になるまで待つ\n",
        "  element = wait.until(EC.element_to_be_clickable((By.CLASS_NAME, \"space-entrance__accept-btn\")))\n",
        "\n",
        "  # ユーザー名入力\n",
        "  userName = driver.find_element_by_name(\"userName\")\n",
        "  userName.send_keys(\"見回りくん\")\n",
        "\n",
        "  # 見回りくんが頑張ってボタンを押す処理\n",
        "  button = driver.find_element_by_class_name(\"space-entrance__accept-btn\")\n",
        "  button.click()\n",
        "  element = wait.until(EC.element_to_be_clickable((By.CLASS_NAME, \"space-entrance__accept-btn\")))\n",
        "  driver.implicitly_wait(10)\n",
        "  button = driver.find_element_by_class_name(\"space-entrance__accept-btn\")\n",
        "  driver.execute_script(\"arguments[0].click();\", button)\n",
        "  driver.implicitly_wait(10)\n",
        "  # 人数が書いてあるタグが現れるまで\n",
        "  while not driver.find_element_by_class_name(\"space-title-bar-users-count__wrap\"):\n",
        "    if EC.element_to_be_clickable((By.CLASS_NAME, \"dialog-device-error__action\")):\n",
        "      driver.find_element_by_class_name(\"dialog-device-error__action \").click()\n",
        "      element = wait.until(EC.element_to_be_clickable((By.CLASS_NAME, \"space-entrance__accept-btn\")))\n",
        "      button = driver.find_element_by_class_name(\"space-entrance__accept-btn\")\n",
        "      driver.execute_script(\"arguments[0].click();\", button)\n",
        "    else:\n",
        "      element = wait.until(EC.element_to_be_clickable((By.CLASS_NAME, \"space-entrance__accept-btn\")))\n",
        "      button = driver.find_element_by_class_name(\"space-entrance__accept-btn\")\n",
        "      driver.execute_script(\"arguments[0].click();\", button)\n",
        "\n",
        "\n",
        "  # 人数を取得\n",
        "  num = int(driver.find_element_by_class_name(\"space-title-bar-users-count__wrap\").text) - 1\n",
        "  print(f\"{num}人おるよ\" if num>0 else \"誰もおらんやぞ\")\n",
        "\n",
        "  # 誰がいるか知りたかった\n",
        "  # button = driver.find_element_by_class_name(\"space-sidebar-switch__button\")\n",
        "  # driver.execute_script(\"arguments[0].click();\", button)\n",
        "  # driver.implicitly_wait(10)\n",
        "\n",
        "  # スクリーンショットの保存 \n",
        "  driver.save_screenshot(\"screen.png\")\n",
        "\n",
        "  # htmlを表示\n",
        "  # html = driver.page_source.encode(\"utf-8\")\n",
        "  # soup = BeautifulSoup(html, \"html.parser\")\n",
        "  # print(soup.prettify())\n",
        "\n",
        "  # driverを閉じることで、見回りくんを殺す\n",
        "  driver.close()\n",
        "except Exception as e:\n",
        "  print(e)\n",
        "  driver.close()"
      ],
      "execution_count": null,
      "outputs": [
        {
          "output_type": "stream",
          "text": [
            "誰もおらんやぞ\n"
          ],
          "name": "stdout"
        }
      ]
    }
  ]
}