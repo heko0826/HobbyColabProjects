{
  "nbformat": 4,
  "nbformat_minor": 0,
  "metadata": {
    "colab": {
      "provenance": [],
      "authorship_tag": "ABX9TyPhv2CZBBbltFy8+yJjSwKO",
      "include_colab_link": true
    },
    "kernelspec": {
      "name": "python3",
      "display_name": "Python 3"
    },
    "language_info": {
      "name": "python"
    },
    "accelerator": "GPU",
    "gpuClass": "standard"
  },
  "cells": [
    {
      "cell_type": "markdown",
      "metadata": {
        "id": "view-in-github",
        "colab_type": "text"
      },
      "source": [
        "<a href=\"https://colab.research.google.com/github/mifumo081a/HobbyColabProjects/blob/main/Dataset_and_DataLoader.ipynb\" target=\"_parent\"><img src=\"https://colab.research.google.com/assets/colab-badge.svg\" alt=\"Open In Colab\"/></a>"
      ]
    },
    {
      "cell_type": "markdown",
      "source": [
        "# Dataset And Dataloader"
      ],
      "metadata": {
        "id": "7Mq8Fhxhc20S"
      }
    },
    {
      "cell_type": "markdown",
      "source": [
        "# オンライン学習，バッチ学習，**ミニバッチ学習**[3-5]\n",
        "- オンライン学習 (online learning)\n",
        "  - 学習データ1つずつを使用して逐次的に最適化する手法\n",
        "  - 学習データ集合をすべて学習するまで，学習データ1つずつを使用した更新式を反復処理する\n",
        "  - 勾配降下法(Gradient descent; GD)において，特に学習データ集合から学習データをランダム()に選んで最適化する手法を確率的勾配降下法(Stochastic gradient descent; SGD)という．\n",
        "  - 更新式に使う目的関数は反復処理の度に違うため，局所的な極小解に陥るリスクがバッチ学習より低くなる．\n",
        "  - しかしながら，1つずつに対して勾配を計算して更新するため，誤差が振動することがある．\n",
        "- バッチ学習 (full batch learning)\n",
        "  - 学習データ集合の全学習データを使用して一度に更新式を処理する\n",
        "  - GDでは，全学習データでの誤差を合計する\n",
        "  - これは最小化する目的関数が常に同じであるため，局所的な極小解の1つに陥る可能性がある\n",
        "  - 凸な誤差面に対しては大域的な極小解に，非凸な誤差面に対しては局所解に収束する．\n",
        "- **ミニバッチ学習 (mini batch learning)**\n",
        "  - 学習データ集合から少数データ集合をひとまとめにして使用する集合を\"ミニバッチ (mini-batch)\"という\n",
        "  - このミニバッチごとの目的関数の平均を使用して更新します（ミニバッチの大きさで目的関数の大きさが変わらないように）．\n",
        "  - 学習データ集合の一部を用いて更新するため，最小化する目的関数は変化し，バッチ全体の勾配を計算して更新するため，誤差が振動しづらく，局所的な極小解に陥りにくい（上2つのいいとこどり）\n",
        "  - ミニバッチ学習はオンライン学習より有用である\n",
        "    - オンラインに比べて更新式の計算速度が高い\n",
        "    - GPUは行列同士の乗算のようなベクトル演算が得意\n",
        "  - ミニバッチはクラスバランスをとる方が良い\n",
        "    - ミニバッチに対して更新式が処理されるため，クラスごとの偏りができないように\n",
        "\n",
        "# データを簡単にミニバッチで取り出す仕組みが欲しい．．．**Dataset, DataLoader**を使用するとそれが可能になります．"
      ],
      "metadata": {
        "id": "078R2zuT0y4g"
      }
    },
    {
      "cell_type": "code",
      "execution_count": null,
      "metadata": {
        "id": "V4dJJ-NZ0YHL"
      },
      "outputs": [],
      "source": [
        "import torch\n",
        "import torch.nn as nn\n",
        "import torch.nn.functional as F\n",
        "import torchvision\n",
        "from torch.utils.data import Dataset, DataLoader\n",
        "import pandas as pd\n",
        "import numpy as np\n",
        "import os\n",
        "import copy\n",
        "import matplotlib.pyplot as plt"
      ]
    },
    {
      "cell_type": "code",
      "source": [
        "# @title # 使用するCSVファイルをダウンロードします．\n",
        "\n",
        "# https://gist.github.com/tijptjik/9408623\n",
        "!wget -nc  -O wine_data.zip https://gist.github.com/tijptjik/9408623/archive/b237fa5848349a14a14e5d4107dc7897c21951f5.zip\n",
        "!unzip -u -j wine_data.zip -d wine_data\n",
        "\n",
        "print(\"↓↓↓こんなファイルです↓↓↓\")\n",
        "pd.read_csv(\"./wine_data/wine.csv\").head()"
      ],
      "metadata": {
        "colab": {
          "base_uri": "https://localhost:8080/",
          "height": 563
        },
        "cellView": "form",
        "id": "dkAVPG9e9QuK",
        "outputId": "413cf98e-8f25-48b6-be53-ff9a2ea56e92"
      },
      "execution_count": null,
      "outputs": [
        {
          "output_type": "stream",
          "name": "stdout",
          "text": [
            "--2023-06-19 05:31:29--  https://gist.github.com/tijptjik/9408623/archive/b237fa5848349a14a14e5d4107dc7897c21951f5.zip\n",
            "Resolving gist.github.com (gist.github.com)... 140.82.114.3\n",
            "Connecting to gist.github.com (gist.github.com)|140.82.114.3|:443... connected.\n",
            "HTTP request sent, awaiting response... 302 Found\n",
            "Location: https://codeload.github.com/gist/9408623/zip/b237fa5848349a14a14e5d4107dc7897c21951f5 [following]\n",
            "--2023-06-19 05:31:29--  https://codeload.github.com/gist/9408623/zip/b237fa5848349a14a14e5d4107dc7897c21951f5\n",
            "Resolving codeload.github.com (codeload.github.com)... 140.82.114.10\n",
            "Connecting to codeload.github.com (codeload.github.com)|140.82.114.10|:443... connected.\n",
            "HTTP request sent, awaiting response... 200 OK\n",
            "Length: unspecified [application/zip]\n",
            "Saving to: ‘wine_data.zip’\n",
            "\n",
            "wine_data.zip           [ <=>                ]   4.57K  --.-KB/s    in 0.001s  \n",
            "\n",
            "2023-06-19 05:31:29 (4.31 MB/s) - ‘wine_data.zip’ saved [4680]\n",
            "\n",
            "Archive:  wine_data.zip\n",
            "b237fa5848349a14a14e5d4107dc7897c21951f5\n",
            "  inflating: wine_data/wine.csv      \n",
            "↓↓↓こんなファイルです↓↓↓\n"
          ]
        },
        {
          "output_type": "execute_result",
          "data": {
            "text/plain": [
              "   Wine  Alcohol  Malic.acid   Ash   Acl   Mg  Phenols  Flavanoids  \\\n",
              "0     1    14.23        1.71  2.43  15.6  127     2.80        3.06   \n",
              "1     1    13.20        1.78  2.14  11.2  100     2.65        2.76   \n",
              "2     1    13.16        2.36  2.67  18.6  101     2.80        3.24   \n",
              "3     1    14.37        1.95  2.50  16.8  113     3.85        3.49   \n",
              "4     1    13.24        2.59  2.87  21.0  118     2.80        2.69   \n",
              "\n",
              "   Nonflavanoid.phenols  Proanth  Color.int   Hue    OD  Proline  \n",
              "0                  0.28     2.29       5.64  1.04  3.92     1065  \n",
              "1                  0.26     1.28       4.38  1.05  3.40     1050  \n",
              "2                  0.30     2.81       5.68  1.03  3.17     1185  \n",
              "3                  0.24     2.18       7.80  0.86  3.45     1480  \n",
              "4                  0.39     1.82       4.32  1.04  2.93      735  "
            ],
            "text/html": [
              "\n",
              "  <div id=\"df-388e2682-3f84-4858-be90-00d6449680b4\">\n",
              "    <div class=\"colab-df-container\">\n",
              "      <div>\n",
              "<style scoped>\n",
              "    .dataframe tbody tr th:only-of-type {\n",
              "        vertical-align: middle;\n",
              "    }\n",
              "\n",
              "    .dataframe tbody tr th {\n",
              "        vertical-align: top;\n",
              "    }\n",
              "\n",
              "    .dataframe thead th {\n",
              "        text-align: right;\n",
              "    }\n",
              "</style>\n",
              "<table border=\"1\" class=\"dataframe\">\n",
              "  <thead>\n",
              "    <tr style=\"text-align: right;\">\n",
              "      <th></th>\n",
              "      <th>Wine</th>\n",
              "      <th>Alcohol</th>\n",
              "      <th>Malic.acid</th>\n",
              "      <th>Ash</th>\n",
              "      <th>Acl</th>\n",
              "      <th>Mg</th>\n",
              "      <th>Phenols</th>\n",
              "      <th>Flavanoids</th>\n",
              "      <th>Nonflavanoid.phenols</th>\n",
              "      <th>Proanth</th>\n",
              "      <th>Color.int</th>\n",
              "      <th>Hue</th>\n",
              "      <th>OD</th>\n",
              "      <th>Proline</th>\n",
              "    </tr>\n",
              "  </thead>\n",
              "  <tbody>\n",
              "    <tr>\n",
              "      <th>0</th>\n",
              "      <td>1</td>\n",
              "      <td>14.23</td>\n",
              "      <td>1.71</td>\n",
              "      <td>2.43</td>\n",
              "      <td>15.6</td>\n",
              "      <td>127</td>\n",
              "      <td>2.80</td>\n",
              "      <td>3.06</td>\n",
              "      <td>0.28</td>\n",
              "      <td>2.29</td>\n",
              "      <td>5.64</td>\n",
              "      <td>1.04</td>\n",
              "      <td>3.92</td>\n",
              "      <td>1065</td>\n",
              "    </tr>\n",
              "    <tr>\n",
              "      <th>1</th>\n",
              "      <td>1</td>\n",
              "      <td>13.20</td>\n",
              "      <td>1.78</td>\n",
              "      <td>2.14</td>\n",
              "      <td>11.2</td>\n",
              "      <td>100</td>\n",
              "      <td>2.65</td>\n",
              "      <td>2.76</td>\n",
              "      <td>0.26</td>\n",
              "      <td>1.28</td>\n",
              "      <td>4.38</td>\n",
              "      <td>1.05</td>\n",
              "      <td>3.40</td>\n",
              "      <td>1050</td>\n",
              "    </tr>\n",
              "    <tr>\n",
              "      <th>2</th>\n",
              "      <td>1</td>\n",
              "      <td>13.16</td>\n",
              "      <td>2.36</td>\n",
              "      <td>2.67</td>\n",
              "      <td>18.6</td>\n",
              "      <td>101</td>\n",
              "      <td>2.80</td>\n",
              "      <td>3.24</td>\n",
              "      <td>0.30</td>\n",
              "      <td>2.81</td>\n",
              "      <td>5.68</td>\n",
              "      <td>1.03</td>\n",
              "      <td>3.17</td>\n",
              "      <td>1185</td>\n",
              "    </tr>\n",
              "    <tr>\n",
              "      <th>3</th>\n",
              "      <td>1</td>\n",
              "      <td>14.37</td>\n",
              "      <td>1.95</td>\n",
              "      <td>2.50</td>\n",
              "      <td>16.8</td>\n",
              "      <td>113</td>\n",
              "      <td>3.85</td>\n",
              "      <td>3.49</td>\n",
              "      <td>0.24</td>\n",
              "      <td>2.18</td>\n",
              "      <td>7.80</td>\n",
              "      <td>0.86</td>\n",
              "      <td>3.45</td>\n",
              "      <td>1480</td>\n",
              "    </tr>\n",
              "    <tr>\n",
              "      <th>4</th>\n",
              "      <td>1</td>\n",
              "      <td>13.24</td>\n",
              "      <td>2.59</td>\n",
              "      <td>2.87</td>\n",
              "      <td>21.0</td>\n",
              "      <td>118</td>\n",
              "      <td>2.80</td>\n",
              "      <td>2.69</td>\n",
              "      <td>0.39</td>\n",
              "      <td>1.82</td>\n",
              "      <td>4.32</td>\n",
              "      <td>1.04</td>\n",
              "      <td>2.93</td>\n",
              "      <td>735</td>\n",
              "    </tr>\n",
              "  </tbody>\n",
              "</table>\n",
              "</div>\n",
              "      <button class=\"colab-df-convert\" onclick=\"convertToInteractive('df-388e2682-3f84-4858-be90-00d6449680b4')\"\n",
              "              title=\"Convert this dataframe to an interactive table.\"\n",
              "              style=\"display:none;\">\n",
              "        \n",
              "  <svg xmlns=\"http://www.w3.org/2000/svg\" height=\"24px\"viewBox=\"0 0 24 24\"\n",
              "       width=\"24px\">\n",
              "    <path d=\"M0 0h24v24H0V0z\" fill=\"none\"/>\n",
              "    <path d=\"M18.56 5.44l.94 2.06.94-2.06 2.06-.94-2.06-.94-.94-2.06-.94 2.06-2.06.94zm-11 1L8.5 8.5l.94-2.06 2.06-.94-2.06-.94L8.5 2.5l-.94 2.06-2.06.94zm10 10l.94 2.06.94-2.06 2.06-.94-2.06-.94-.94-2.06-.94 2.06-2.06.94z\"/><path d=\"M17.41 7.96l-1.37-1.37c-.4-.4-.92-.59-1.43-.59-.52 0-1.04.2-1.43.59L10.3 9.45l-7.72 7.72c-.78.78-.78 2.05 0 2.83L4 21.41c.39.39.9.59 1.41.59.51 0 1.02-.2 1.41-.59l7.78-7.78 2.81-2.81c.8-.78.8-2.07 0-2.86zM5.41 20L4 18.59l7.72-7.72 1.47 1.35L5.41 20z\"/>\n",
              "  </svg>\n",
              "      </button>\n",
              "      \n",
              "  <style>\n",
              "    .colab-df-container {\n",
              "      display:flex;\n",
              "      flex-wrap:wrap;\n",
              "      gap: 12px;\n",
              "    }\n",
              "\n",
              "    .colab-df-convert {\n",
              "      background-color: #E8F0FE;\n",
              "      border: none;\n",
              "      border-radius: 50%;\n",
              "      cursor: pointer;\n",
              "      display: none;\n",
              "      fill: #1967D2;\n",
              "      height: 32px;\n",
              "      padding: 0 0 0 0;\n",
              "      width: 32px;\n",
              "    }\n",
              "\n",
              "    .colab-df-convert:hover {\n",
              "      background-color: #E2EBFA;\n",
              "      box-shadow: 0px 1px 2px rgba(60, 64, 67, 0.3), 0px 1px 3px 1px rgba(60, 64, 67, 0.15);\n",
              "      fill: #174EA6;\n",
              "    }\n",
              "\n",
              "    [theme=dark] .colab-df-convert {\n",
              "      background-color: #3B4455;\n",
              "      fill: #D2E3FC;\n",
              "    }\n",
              "\n",
              "    [theme=dark] .colab-df-convert:hover {\n",
              "      background-color: #434B5C;\n",
              "      box-shadow: 0px 1px 3px 1px rgba(0, 0, 0, 0.15);\n",
              "      filter: drop-shadow(0px 1px 2px rgba(0, 0, 0, 0.3));\n",
              "      fill: #FFFFFF;\n",
              "    }\n",
              "  </style>\n",
              "\n",
              "      <script>\n",
              "        const buttonEl =\n",
              "          document.querySelector('#df-388e2682-3f84-4858-be90-00d6449680b4 button.colab-df-convert');\n",
              "        buttonEl.style.display =\n",
              "          google.colab.kernel.accessAllowed ? 'block' : 'none';\n",
              "\n",
              "        async function convertToInteractive(key) {\n",
              "          const element = document.querySelector('#df-388e2682-3f84-4858-be90-00d6449680b4');\n",
              "          const dataTable =\n",
              "            await google.colab.kernel.invokeFunction('convertToInteractive',\n",
              "                                                     [key], {});\n",
              "          if (!dataTable) return;\n",
              "\n",
              "          const docLinkHtml = 'Like what you see? Visit the ' +\n",
              "            '<a target=\"_blank\" href=https://colab.research.google.com/notebooks/data_table.ipynb>data table notebook</a>'\n",
              "            + ' to learn more about interactive tables.';\n",
              "          element.innerHTML = '';\n",
              "          dataTable['output_type'] = 'display_data';\n",
              "          await google.colab.output.renderOutput(dataTable, element);\n",
              "          const docLink = document.createElement('div');\n",
              "          docLink.innerHTML = docLinkHtml;\n",
              "          element.appendChild(docLink);\n",
              "        }\n",
              "      </script>\n",
              "    </div>\n",
              "  </div>\n",
              "  "
            ]
          },
          "metadata": {},
          "execution_count": 3
        }
      ]
    },
    {
      "cell_type": "markdown",
      "source": [
        "# まず，データ集合からデータを読み込む処理を自分で書いてみましょう．\n",
        "- オンライン学習はシンプルで，データを1つずつ読みだして更新式を反復処理するだけです．\n",
        "- バッチ学習に関しては，データ集合をテンソルとして扱うことができるため一括でモデルに入出力することを過程するとよりシンプルになります．（通常はメモリに乗らないため，データ1つずつの合計を取る）\n",
        "- ミニバッチ学習は，バッチサイズの定義，データセットをミニバッチごとに取り出す処理などが含まれるため，複雑になっています．\n",
        "\n",
        "### ※本当は，SGDではデータ集合の中からランダム()にバッチやデータを選択する必要があるため処理はより複雑になります．ここでは単純化しています．"
      ],
      "metadata": {
        "id": "FubZe02M0PF5"
      }
    },
    {
      "cell_type": "code",
      "source": [
        "data = np.loadtxt(\"./wine_data/wine.csv\", delimiter=\",\", dtype=np.float32, skiprows=1)\n",
        "\n",
        "# オンライン学習\n",
        "for epoch in range(10):\n",
        "  # データであるベクトルと，ラベルを代入する\n",
        "  X, Y = data[:, 1:], data[:, 0]\n",
        "  for x, y in zip(X, Y):\n",
        "    pass\n",
        "    # forward + backward + model parameters updates\n",
        "\n",
        "# バッチ学習\n",
        "for epoch in range(10):\n",
        "  X, Y = data[:, 1:], data[:, 0]\n",
        "  # forward + backward + model parameters updates\n",
        "\n",
        "\n",
        "# ミニバッチ学習\n",
        "for epoch in range(1):\n",
        "  X, Y = data[:, 1:], data[:, 0]\n",
        "  batch_size = 20\n",
        "  total_batches = X.shape[0] // batch_size\n",
        "  print(f\"Dataset size: {X.shape[0]}, Batch_size: {batch_size}, Total batches: {total_batches}\")\n",
        "\n",
        "  batch_head = 0\n",
        "\n",
        "  for i in range(total_batches):\n",
        "    x_batch, y_batch = X[batch_head : batch_size*(i+1)], Y[batch_head : batch_size*(i+1)]\n",
        "    batch_head = batch_size*(i+1)\n",
        "    print(x_batch.shape)\n",
        "    # forward + backward + model parameters updates\n",
        "  else:\n",
        "    x_batch, y_batch = X[batch_head:], Y[batch_head:]\n",
        "    print(x_batch.shape)\n",
        "    # forward + backward + model parameters updates"
      ],
      "metadata": {
        "colab": {
          "base_uri": "https://localhost:8080/"
        },
        "id": "gwxpKfpY0PR1",
        "outputId": "e227306d-c73a-4250-f332-20f7571caafb"
      },
      "execution_count": null,
      "outputs": [
        {
          "output_type": "stream",
          "name": "stdout",
          "text": [
            "Dataset size: 178, Batch_size: 20, Total batches: 8\n",
            "(20, 13)\n",
            "(20, 13)\n",
            "(20, 13)\n",
            "(20, 13)\n",
            "(20, 13)\n",
            "(20, 13)\n",
            "(20, 13)\n",
            "(20, 13)\n",
            "(18, 13)\n"
          ]
        }
      ]
    },
    {
      "cell_type": "markdown",
      "source": [
        "# Dataset，DataLoaderとは\n",
        "- データの読み出しを簡単化し，読みやすさとモジュール化のために，データセットのコードはモデルの学習コードとは切り離しておきたい．\n",
        "- PyTorchでは，`torch.utils.data.Dataset`, `torch.utils.data.DataLoader`という２つのクラスが提供されている．\n",
        "- Datasetは学習データと対応するラベルを格納，読み出しをするオブジェクトである\n",
        "- DataLoaderはDatasetに`iterable`をラップしてデータに簡単にアクセスできるようにするものです．\n",
        "  - `iterable`とは`next`メソッドやfor文の`in ～`で繰り返し処理ができるオブジェクトのことです\n",
        "\n",
        "- Datasetはデータ集合を定義するもの，DataLoaderはデータ集合からサンプリングするものと考えるとわかりやすいと思います"
      ],
      "metadata": {
        "id": "cArQRUJWGJAf"
      }
    },
    {
      "cell_type": "markdown",
      "source": [
        "## Datasetオブジェクト\n",
        "- `torch.utils.data.Dataset`クラスを親クラスとして継承した子クラスを宣言します\n",
        "- Datasetオブジェクトはあくまでも，データを使うためのクラスとして存在します．例えば，使い方としては次のような使い方が想定されます．\n",
        "- 正しく宣言するには最低限次の3つのメソッドをオーバーライドしなければなりません\n",
        "  - `__init__`\n",
        "    - Datasetオブジェクトをインスタンス化する際に1度だけ実行される\n",
        "    - 画像やベクトル，対応するラベル，変換(次の人が説明する)を初期化します\n",
        "  - `__len__(self)`\n",
        "    - データセットの大きさを返す関数\n",
        "  - `__getitem__(self, index)`\n",
        "    - データセットから`index`で参照できるデータを返す\n",
        "    - 別にデータと対応するラベルという2つを返す必要はなく，何個でもよい\n",
        "\n",
        "- 宣言したDatasetを`dataset`としてインスタンスしたとすると，`dataset[index]`で`index`に対応するデータを返す"
      ],
      "metadata": {
        "id": "Ig9RJJvuFCTp"
      }
    },
    {
      "cell_type": "markdown",
      "source": [
        "# PyTorchは、実数はfloat型，ラベル(0, 1, 2とか)はlong型にするように"
      ],
      "metadata": {
        "id": "CTZzsKXRPYk3"
      }
    },
    {
      "cell_type": "code",
      "source": [
        "class WineDataset(Dataset):\n",
        "  def __init__(self, root=os.getcwd()):\n",
        "    # csvファイルを読み出す\n",
        "    file_path = os.path.join(root, \"wine.csv\")\n",
        "    xy = np.loadtxt(file_path, delimiter=\",\", dtype=np.float32, skiprows=1)\n",
        "    self.n_samples = xy.shape[0]\n",
        "\n",
        "    # 学習データのベクトルを代入する\n",
        "    self.x_data = torch.from_numpy(xy[:, 1:])\n",
        "    # 学習データに対応するラベルを代入する\n",
        "    self.classes = list(np.unique(xy[:, 0]))\n",
        "    self.y_data = torch.tensor([self.classes.index(i) for i in xy[:, 0]], dtype=torch.long)\n",
        "\n",
        "  def __len__(self):\n",
        "    return self.n_samples\n",
        "\n",
        "  def __getitem__(self, idx):\n",
        "    return self.x_data[idx], self.y_data[idx]"
      ],
      "metadata": {
        "id": "beX9rpMP0nn1"
      },
      "execution_count": null,
      "outputs": []
    },
    {
      "cell_type": "code",
      "source": [
        "# datasetインスタンスの宣言\n",
        "data_folder_path = \"./wine_data/\"\n",
        "dataset = WineDataset(data_folder_path)\n",
        "\n",
        "# 0番目のindexに対応するデータを取得する\n",
        "features, labels = dataset[0]\n",
        "print(features.shape)\n",
        "print(features)\n",
        "print(labels.shape)\n",
        "print(labels)"
      ],
      "metadata": {
        "colab": {
          "base_uri": "https://localhost:8080/"
        },
        "id": "4EaQtV6FEYUp",
        "outputId": "77cf3307-c839-4c75-c958-71da06ca4561"
      },
      "execution_count": null,
      "outputs": [
        {
          "output_type": "stream",
          "name": "stdout",
          "text": [
            "torch.Size([13])\n",
            "tensor([1.4230e+01, 1.7100e+00, 2.4300e+00, 1.5600e+01, 1.2700e+02, 2.8000e+00,\n",
            "        3.0600e+00, 2.8000e-01, 2.2900e+00, 5.6400e+00, 1.0400e+00, 3.9200e+00,\n",
            "        1.0650e+03])\n",
            "torch.Size([])\n",
            "tensor(0)\n"
          ]
        }
      ]
    },
    {
      "cell_type": "markdown",
      "source": [
        "## DataLoaderオブジェクト\n",
        "- Datasetオブジェクトはデータセットのデータとラベルを一度に1つずつ取得します\n",
        "- ミニバッチ学習をするのは近年において一般的となり，データをミニバッチで渡し，エポックごとにデータをシャッフルしてモデルが局所的な極小解に収束するリスクを減らし，Pythonのマルチプロセッシングを利用してデータの読み出しを高速化します\n",
        "- DataLoaderは，これらの複雑な処理を簡単に実行できる`iterable`オブジェクトです"
      ],
      "metadata": {
        "id": "ox-AMXvJGGmY"
      }
    },
    {
      "cell_type": "markdown",
      "source": [
        "## WineDatasetのDataLoaderを宣言します．"
      ],
      "metadata": {
        "id": "yK7eFMuVGPUf"
      }
    },
    {
      "cell_type": "code",
      "source": [
        "print(\"CPU number of threads: \", os.cpu_count())\n",
        "\n",
        "# WineDatasetインスタンスを読み出すDataLoaderを宣言する\n",
        "train_loader = DataLoader(dataset=dataset, # DataLoaderに与えるDatasetインスタンス\n",
        "                          batch_size=4, # ミニバッチの大きさ\n",
        "                          shuffle=True, # shuffleするかどうか\n",
        "                          num_workers=2, # データの読み出しに使用するCPUの論理スレッド数を指定します．2で十分であり，2以上はそれほど差がない\n",
        "                          pin_memory=True # CPUのメモリ領域がページングされないようにピン留めされた状態となり、CUDAのautomatic memory pinningが使用できるようになる。\n",
        "                          )\n",
        "\n",
        "# iter()はiteratorオブジェクトを返す．iterableオブジェクトを与える\n",
        "# next()はiteratorオブジェクトの__next__()メソッドを呼び出し，iteratorから次の項目を取得する\n",
        "features, labels = next(iter(train_loader))\n",
        "\n",
        "print(\"Dataloaderから読みだされるテンソルは次のshapeになるはずです．[B, (データのshape)] (B: バッチサイズ)\")\n",
        "print()\n",
        "\n",
        "print(features.shape)\n",
        "print(features)\n",
        "print(labels.shape)\n",
        "print(labels)"
      ],
      "metadata": {
        "colab": {
          "base_uri": "https://localhost:8080/"
        },
        "id": "vQ8H2JDsFtWE",
        "outputId": "a50400e4-45bd-4422-f751-ba292129745c"
      },
      "execution_count": null,
      "outputs": [
        {
          "output_type": "stream",
          "name": "stdout",
          "text": [
            "CPU number of threads:  2\n",
            "Dataloaderから読みだされるテンソルは次のshapeになるはずです．[B, (データのshape)] (B: バッチサイズ)\n",
            "\n",
            "torch.Size([4, 13])\n",
            "tensor([[1.2840e+01, 2.9600e+00, 2.6100e+00, 2.4000e+01, 1.0100e+02, 2.3200e+00,\n",
            "         6.0000e-01, 5.3000e-01, 8.1000e-01, 4.9200e+00, 8.9000e-01, 2.1500e+00,\n",
            "         5.9000e+02],\n",
            "        [1.3400e+01, 4.6000e+00, 2.8600e+00, 2.5000e+01, 1.1200e+02, 1.9800e+00,\n",
            "         9.6000e-01, 2.7000e-01, 1.1100e+00, 8.5000e+00, 6.7000e-01, 1.9200e+00,\n",
            "         6.3000e+02],\n",
            "        [1.3830e+01, 1.5700e+00, 2.6200e+00, 2.0000e+01, 1.1500e+02, 2.9500e+00,\n",
            "         3.4000e+00, 4.0000e-01, 1.7200e+00, 6.6000e+00, 1.1300e+00, 2.5700e+00,\n",
            "         1.1300e+03],\n",
            "        [1.1820e+01, 1.4700e+00, 1.9900e+00, 2.0800e+01, 8.6000e+01, 1.9800e+00,\n",
            "         1.6000e+00, 3.0000e-01, 1.5300e+00, 1.9500e+00, 9.5000e-01, 3.3300e+00,\n",
            "         4.9500e+02]])\n",
            "torch.Size([4])\n",
            "tensor([2, 2, 0, 1])\n"
          ]
        }
      ]
    },
    {
      "cell_type": "markdown",
      "source": [
        "# 元の資料[1]では実際に学習しなかったけど，ここでは実際に学習してみましょう．"
      ],
      "metadata": {
        "id": "0ef8vxBnHjTY"
      }
    },
    {
      "cell_type": "code",
      "source": [
        "# @title ## モデルの定義\n",
        "!pip install torchinfo\n",
        "import torchinfo\n",
        "\n",
        "class my_model(nn.Module):\n",
        "  def __init__(self):\n",
        "    super().__init__()\n",
        "    self.fc1 = nn.Linear(13, 16)\n",
        "    self.fc2 = nn.Linear(16, 16)\n",
        "    self.fc3 = nn.Linear(16, 3)\n",
        "    self.relu = nn.ReLU()\n",
        "    self.sigmoid = nn.Sigmoid()\n",
        "\n",
        "  def forward(self, x):\n",
        "    x = self.relu(self.fc1(x))\n",
        "    x = self.relu(self.fc2(x))\n",
        "    x = self.sigmoid(self.fc3(x))\n",
        "    return x\n",
        "\n",
        "# print(my_model())\n",
        "torchinfo.summary(my_model(), (1, 13))"
      ],
      "metadata": {
        "colab": {
          "base_uri": "https://localhost:8080/"
        },
        "cellView": "form",
        "id": "j-YjxpXvJFBh",
        "outputId": "207e435d-b176-4bc4-8ebc-8adf93a1f86a"
      },
      "execution_count": null,
      "outputs": [
        {
          "output_type": "stream",
          "name": "stdout",
          "text": [
            "Looking in indexes: https://pypi.org/simple, https://us-python.pkg.dev/colab-wheels/public/simple/\n",
            "Collecting torchinfo\n",
            "  Downloading torchinfo-1.8.0-py3-none-any.whl (23 kB)\n",
            "Installing collected packages: torchinfo\n",
            "Successfully installed torchinfo-1.8.0\n"
          ]
        },
        {
          "output_type": "execute_result",
          "data": {
            "text/plain": [
              "==========================================================================================\n",
              "Layer (type:depth-idx)                   Output Shape              Param #\n",
              "==========================================================================================\n",
              "my_model                                 [1, 3]                    --\n",
              "├─Linear: 1-1                            [1, 16]                   224\n",
              "├─ReLU: 1-2                              [1, 16]                   --\n",
              "├─Linear: 1-3                            [1, 16]                   272\n",
              "├─ReLU: 1-4                              [1, 16]                   --\n",
              "├─Linear: 1-5                            [1, 3]                    51\n",
              "├─Sigmoid: 1-6                           [1, 3]                    --\n",
              "==========================================================================================\n",
              "Total params: 547\n",
              "Trainable params: 547\n",
              "Non-trainable params: 0\n",
              "Total mult-adds (M): 0.00\n",
              "==========================================================================================\n",
              "Input size (MB): 0.00\n",
              "Forward/backward pass size (MB): 0.00\n",
              "Params size (MB): 0.00\n",
              "Estimated Total Size (MB): 0.00\n",
              "=========================================================================================="
            ]
          },
          "metadata": {},
          "execution_count": 8
        }
      ]
    },
    {
      "cell_type": "markdown",
      "source": [
        "#  学習の反復処理をする関数の定義"
      ],
      "metadata": {
        "id": "qjopLHhnqT-h"
      }
    },
    {
      "cell_type": "code",
      "source": [
        "def train(model, dataloader, loss_func, optimizer, num_epochs):\n",
        "  dataset_size = len(dataloader.dataset)\n",
        "  device = next(model.parameters()).device\n",
        "\n",
        "  best_model_wts = copy.deepcopy(model.state_dict())\n",
        "  best_loss = np.inf\n",
        "  best_acc = 0.\n",
        "  loss_list, acc_list = [], []\n",
        "\n",
        "  n_iterations = len(dataloader) # number of batches\n",
        "  print(f\"Dataset size: {dataset_size}, Number of batches: {n_iterations}\")\n",
        "  for epoch in range(num_epochs):\n",
        "    model.train()\n",
        "    epoch_loss = 0\n",
        "    epoch_acc = 0\n",
        "    for i, (inputs, labels) in enumerate(dataloader): # ←←←ここ注目!!!\n",
        "      inputs, labels = inputs.to(device), labels.to(device)\n",
        "      optimizer.zero_grad()\n",
        "\n",
        "      outputs = model(inputs)\n",
        "      loss = loss_func(outputs, labels)\n",
        "      loss.backward()\n",
        "      optimizer.step()\n",
        "\n",
        "      _, preds = torch.max(outputs, dim=1)\n",
        "      match = torch.sum(preds == labels)\n",
        "\n",
        "      epoch_loss += loss.item() * inputs.shape[0]\n",
        "      epoch_acc += match.item()\n",
        "\n",
        "      if (i+1) % 5 == 0:\n",
        "        print(f\"Epoch: {epoch+1}/{num_epochs}, Step {i+1}/{n_iterations} | Inputs {inputs.shape} | Labels {labels.shape}\")\n",
        "    loss_list.append(epoch_loss / dataset_size)\n",
        "    acc_list.append(epoch_acc / dataset_size)\n",
        "    print(\"Loss: {:.4f}, Accuracy: {:.4f}\".format(epoch_loss/dataset_size, epoch_acc/dataset_size))\n",
        "\n",
        "    if epoch_loss <= best_loss or epoch_acc >= best_acc:\n",
        "      best_loss = epoch_loss\n",
        "      best_acc = epoch_acc\n",
        "      best_model_wts = copy.deepcopy(model.state_dict())\n",
        "\n",
        "  model.load_state_dict(best_model_wts)\n",
        "  return model, loss_list, acc_list"
      ],
      "metadata": {
        "id": "7fiH_9mDRSTa"
      },
      "execution_count": null,
      "outputs": []
    },
    {
      "cell_type": "markdown",
      "source": [
        "## 学習"
      ],
      "metadata": {
        "id": "yExYQlvzqWUF"
      }
    },
    {
      "cell_type": "code",
      "source": [
        "n_samples = len(dataset)\n",
        "train_size = int(n_samples * 0.8)\n",
        "test_size = n_samples - train_size\n",
        "\n",
        "# データセットを疑似乱数で分割する関数(seedがあるよ!!)\n",
        "# 3つに分割することもできる\n",
        "# train_dataset, val_dataset, test_dataset = torch.utils.data.random_split(dataset, [train_size, val_size, test_size])\n",
        "train_dataset, test_dataset = torch.utils.data.random_split(dataset, [train_size, test_size])\n",
        "print(\"All dataset size: \", len(dataset))\n",
        "print(\"Train dataset size: \", len(train_dataset))\n",
        "print(\"Test dataset size: \", len(test_dataset))\n",
        "\n",
        "train_loader = DataLoader(dataset=train_dataset, batch_size=4, shuffle=True, num_workers=2)\n",
        "test_loader = DataLoader(dataset=test_dataset, batch_size=1, shuffle=False, num_workers=1)\n",
        "\n",
        "device = torch.device(\"cuda\" if torch.cuda.is_available() else \"cpu\")\n",
        "print(device)\n",
        "\n",
        "model = my_model().to(device)\n",
        "loss_func = nn.CrossEntropyLoss()\n",
        "# optimizer = torch.optim.SGD(model.parameters(), lr=1e-3)\n",
        "optimizer = torch.optim.AdamW(model.parameters(), lr=1e-3)\n",
        "\n",
        "num_epochs = 30\n",
        "\n",
        "model_ft, loss_list, acc_list = train(model, train_loader, loss_func, optimizer, num_epochs)"
      ],
      "metadata": {
        "colab": {
          "base_uri": "https://localhost:8080/"
        },
        "id": "ok21VC64Gx5k",
        "outputId": "3434d54f-91ab-4331-c4ad-db994eb27164"
      },
      "execution_count": null,
      "outputs": [
        {
          "output_type": "stream",
          "name": "stdout",
          "text": [
            "All dataset size:  178\n",
            "Train dataset size:  142\n",
            "Test dataset size:  36\n",
            "cuda\n",
            "Dataset size: 142, Number of batches: 36\n",
            "Epoch: 1/30, Step 5/36 | Inputs torch.Size([4, 13]) | Labels torch.Size([4])\n",
            "Epoch: 1/30, Step 10/36 | Inputs torch.Size([4, 13]) | Labels torch.Size([4])\n",
            "Epoch: 1/30, Step 15/36 | Inputs torch.Size([4, 13]) | Labels torch.Size([4])\n",
            "Epoch: 1/30, Step 20/36 | Inputs torch.Size([4, 13]) | Labels torch.Size([4])\n",
            "Epoch: 1/30, Step 25/36 | Inputs torch.Size([4, 13]) | Labels torch.Size([4])\n",
            "Epoch: 1/30, Step 30/36 | Inputs torch.Size([4, 13]) | Labels torch.Size([4])\n",
            "Epoch: 1/30, Step 35/36 | Inputs torch.Size([4, 13]) | Labels torch.Size([4])\n",
            "Loss: 1.0641, Accuracy: 0.3803\n",
            "Epoch: 2/30, Step 5/36 | Inputs torch.Size([4, 13]) | Labels torch.Size([4])\n",
            "Epoch: 2/30, Step 10/36 | Inputs torch.Size([4, 13]) | Labels torch.Size([4])\n",
            "Epoch: 2/30, Step 15/36 | Inputs torch.Size([4, 13]) | Labels torch.Size([4])\n",
            "Epoch: 2/30, Step 20/36 | Inputs torch.Size([4, 13]) | Labels torch.Size([4])\n",
            "Epoch: 2/30, Step 25/36 | Inputs torch.Size([4, 13]) | Labels torch.Size([4])\n",
            "Epoch: 2/30, Step 30/36 | Inputs torch.Size([4, 13]) | Labels torch.Size([4])\n",
            "Epoch: 2/30, Step 35/36 | Inputs torch.Size([4, 13]) | Labels torch.Size([4])\n",
            "Loss: 0.9825, Accuracy: 0.5986\n",
            "Epoch: 3/30, Step 5/36 | Inputs torch.Size([4, 13]) | Labels torch.Size([4])\n",
            "Epoch: 3/30, Step 10/36 | Inputs torch.Size([4, 13]) | Labels torch.Size([4])\n",
            "Epoch: 3/30, Step 15/36 | Inputs torch.Size([4, 13]) | Labels torch.Size([4])\n",
            "Epoch: 3/30, Step 20/36 | Inputs torch.Size([4, 13]) | Labels torch.Size([4])\n",
            "Epoch: 3/30, Step 25/36 | Inputs torch.Size([4, 13]) | Labels torch.Size([4])\n",
            "Epoch: 3/30, Step 30/36 | Inputs torch.Size([4, 13]) | Labels torch.Size([4])\n",
            "Epoch: 3/30, Step 35/36 | Inputs torch.Size([4, 13]) | Labels torch.Size([4])\n",
            "Loss: 0.9516, Accuracy: 0.6479\n",
            "Epoch: 4/30, Step 5/36 | Inputs torch.Size([4, 13]) | Labels torch.Size([4])\n",
            "Epoch: 4/30, Step 10/36 | Inputs torch.Size([4, 13]) | Labels torch.Size([4])\n",
            "Epoch: 4/30, Step 15/36 | Inputs torch.Size([4, 13]) | Labels torch.Size([4])\n",
            "Epoch: 4/30, Step 20/36 | Inputs torch.Size([4, 13]) | Labels torch.Size([4])\n",
            "Epoch: 4/30, Step 25/36 | Inputs torch.Size([4, 13]) | Labels torch.Size([4])\n",
            "Epoch: 4/30, Step 30/36 | Inputs torch.Size([4, 13]) | Labels torch.Size([4])\n",
            "Epoch: 4/30, Step 35/36 | Inputs torch.Size([4, 13]) | Labels torch.Size([4])\n",
            "Loss: 0.9099, Accuracy: 0.6408\n",
            "Epoch: 5/30, Step 5/36 | Inputs torch.Size([4, 13]) | Labels torch.Size([4])\n",
            "Epoch: 5/30, Step 10/36 | Inputs torch.Size([4, 13]) | Labels torch.Size([4])\n",
            "Epoch: 5/30, Step 15/36 | Inputs torch.Size([4, 13]) | Labels torch.Size([4])\n",
            "Epoch: 5/30, Step 20/36 | Inputs torch.Size([4, 13]) | Labels torch.Size([4])\n",
            "Epoch: 5/30, Step 25/36 | Inputs torch.Size([4, 13]) | Labels torch.Size([4])\n",
            "Epoch: 5/30, Step 30/36 | Inputs torch.Size([4, 13]) | Labels torch.Size([4])\n",
            "Epoch: 5/30, Step 35/36 | Inputs torch.Size([4, 13]) | Labels torch.Size([4])\n",
            "Loss: 0.8987, Accuracy: 0.6197\n",
            "Epoch: 6/30, Step 5/36 | Inputs torch.Size([4, 13]) | Labels torch.Size([4])\n",
            "Epoch: 6/30, Step 10/36 | Inputs torch.Size([4, 13]) | Labels torch.Size([4])\n",
            "Epoch: 6/30, Step 15/36 | Inputs torch.Size([4, 13]) | Labels torch.Size([4])\n",
            "Epoch: 6/30, Step 20/36 | Inputs torch.Size([4, 13]) | Labels torch.Size([4])\n",
            "Epoch: 6/30, Step 25/36 | Inputs torch.Size([4, 13]) | Labels torch.Size([4])\n",
            "Epoch: 6/30, Step 30/36 | Inputs torch.Size([4, 13]) | Labels torch.Size([4])\n",
            "Epoch: 6/30, Step 35/36 | Inputs torch.Size([4, 13]) | Labels torch.Size([4])\n",
            "Loss: 0.9078, Accuracy: 0.6127\n",
            "Epoch: 7/30, Step 5/36 | Inputs torch.Size([4, 13]) | Labels torch.Size([4])\n",
            "Epoch: 7/30, Step 10/36 | Inputs torch.Size([4, 13]) | Labels torch.Size([4])\n",
            "Epoch: 7/30, Step 15/36 | Inputs torch.Size([4, 13]) | Labels torch.Size([4])\n",
            "Epoch: 7/30, Step 20/36 | Inputs torch.Size([4, 13]) | Labels torch.Size([4])\n",
            "Epoch: 7/30, Step 25/36 | Inputs torch.Size([4, 13]) | Labels torch.Size([4])\n",
            "Epoch: 7/30, Step 30/36 | Inputs torch.Size([4, 13]) | Labels torch.Size([4])\n",
            "Epoch: 7/30, Step 35/36 | Inputs torch.Size([4, 13]) | Labels torch.Size([4])\n",
            "Loss: 0.8742, Accuracy: 0.6479\n",
            "Epoch: 8/30, Step 5/36 | Inputs torch.Size([4, 13]) | Labels torch.Size([4])\n",
            "Epoch: 8/30, Step 10/36 | Inputs torch.Size([4, 13]) | Labels torch.Size([4])\n",
            "Epoch: 8/30, Step 15/36 | Inputs torch.Size([4, 13]) | Labels torch.Size([4])\n",
            "Epoch: 8/30, Step 20/36 | Inputs torch.Size([4, 13]) | Labels torch.Size([4])\n",
            "Epoch: 8/30, Step 25/36 | Inputs torch.Size([4, 13]) | Labels torch.Size([4])\n",
            "Epoch: 8/30, Step 30/36 | Inputs torch.Size([4, 13]) | Labels torch.Size([4])\n",
            "Epoch: 8/30, Step 35/36 | Inputs torch.Size([4, 13]) | Labels torch.Size([4])\n",
            "Loss: 0.8654, Accuracy: 0.7042\n",
            "Epoch: 9/30, Step 5/36 | Inputs torch.Size([4, 13]) | Labels torch.Size([4])\n",
            "Epoch: 9/30, Step 10/36 | Inputs torch.Size([4, 13]) | Labels torch.Size([4])\n",
            "Epoch: 9/30, Step 15/36 | Inputs torch.Size([4, 13]) | Labels torch.Size([4])\n",
            "Epoch: 9/30, Step 20/36 | Inputs torch.Size([4, 13]) | Labels torch.Size([4])\n",
            "Epoch: 9/30, Step 25/36 | Inputs torch.Size([4, 13]) | Labels torch.Size([4])\n",
            "Epoch: 9/30, Step 30/36 | Inputs torch.Size([4, 13]) | Labels torch.Size([4])\n",
            "Epoch: 9/30, Step 35/36 | Inputs torch.Size([4, 13]) | Labels torch.Size([4])\n",
            "Loss: 0.8813, Accuracy: 0.6479\n",
            "Epoch: 10/30, Step 5/36 | Inputs torch.Size([4, 13]) | Labels torch.Size([4])\n",
            "Epoch: 10/30, Step 10/36 | Inputs torch.Size([4, 13]) | Labels torch.Size([4])\n",
            "Epoch: 10/30, Step 15/36 | Inputs torch.Size([4, 13]) | Labels torch.Size([4])\n",
            "Epoch: 10/30, Step 20/36 | Inputs torch.Size([4, 13]) | Labels torch.Size([4])\n",
            "Epoch: 10/30, Step 25/36 | Inputs torch.Size([4, 13]) | Labels torch.Size([4])\n",
            "Epoch: 10/30, Step 30/36 | Inputs torch.Size([4, 13]) | Labels torch.Size([4])\n",
            "Epoch: 10/30, Step 35/36 | Inputs torch.Size([4, 13]) | Labels torch.Size([4])\n",
            "Loss: 0.8584, Accuracy: 0.7254\n",
            "Epoch: 11/30, Step 5/36 | Inputs torch.Size([4, 13]) | Labels torch.Size([4])\n",
            "Epoch: 11/30, Step 10/36 | Inputs torch.Size([4, 13]) | Labels torch.Size([4])\n",
            "Epoch: 11/30, Step 15/36 | Inputs torch.Size([4, 13]) | Labels torch.Size([4])\n",
            "Epoch: 11/30, Step 20/36 | Inputs torch.Size([4, 13]) | Labels torch.Size([4])\n",
            "Epoch: 11/30, Step 25/36 | Inputs torch.Size([4, 13]) | Labels torch.Size([4])\n",
            "Epoch: 11/30, Step 30/36 | Inputs torch.Size([4, 13]) | Labels torch.Size([4])\n",
            "Epoch: 11/30, Step 35/36 | Inputs torch.Size([4, 13]) | Labels torch.Size([4])\n",
            "Loss: 0.8509, Accuracy: 0.7042\n",
            "Epoch: 12/30, Step 5/36 | Inputs torch.Size([4, 13]) | Labels torch.Size([4])\n",
            "Epoch: 12/30, Step 10/36 | Inputs torch.Size([4, 13]) | Labels torch.Size([4])\n",
            "Epoch: 12/30, Step 15/36 | Inputs torch.Size([4, 13]) | Labels torch.Size([4])\n",
            "Epoch: 12/30, Step 20/36 | Inputs torch.Size([4, 13]) | Labels torch.Size([4])\n",
            "Epoch: 12/30, Step 25/36 | Inputs torch.Size([4, 13]) | Labels torch.Size([4])\n",
            "Epoch: 12/30, Step 30/36 | Inputs torch.Size([4, 13]) | Labels torch.Size([4])\n",
            "Epoch: 12/30, Step 35/36 | Inputs torch.Size([4, 13]) | Labels torch.Size([4])\n",
            "Loss: 0.8451, Accuracy: 0.6831\n",
            "Epoch: 13/30, Step 5/36 | Inputs torch.Size([4, 13]) | Labels torch.Size([4])\n",
            "Epoch: 13/30, Step 10/36 | Inputs torch.Size([4, 13]) | Labels torch.Size([4])\n",
            "Epoch: 13/30, Step 15/36 | Inputs torch.Size([4, 13]) | Labels torch.Size([4])\n",
            "Epoch: 13/30, Step 20/36 | Inputs torch.Size([4, 13]) | Labels torch.Size([4])\n",
            "Epoch: 13/30, Step 25/36 | Inputs torch.Size([4, 13]) | Labels torch.Size([4])\n",
            "Epoch: 13/30, Step 30/36 | Inputs torch.Size([4, 13]) | Labels torch.Size([4])\n",
            "Epoch: 13/30, Step 35/36 | Inputs torch.Size([4, 13]) | Labels torch.Size([4])\n",
            "Loss: 0.8451, Accuracy: 0.7113\n",
            "Epoch: 14/30, Step 5/36 | Inputs torch.Size([4, 13]) | Labels torch.Size([4])\n",
            "Epoch: 14/30, Step 10/36 | Inputs torch.Size([4, 13]) | Labels torch.Size([4])\n",
            "Epoch: 14/30, Step 15/36 | Inputs torch.Size([4, 13]) | Labels torch.Size([4])\n",
            "Epoch: 14/30, Step 20/36 | Inputs torch.Size([4, 13]) | Labels torch.Size([4])\n",
            "Epoch: 14/30, Step 25/36 | Inputs torch.Size([4, 13]) | Labels torch.Size([4])\n",
            "Epoch: 14/30, Step 30/36 | Inputs torch.Size([4, 13]) | Labels torch.Size([4])\n",
            "Epoch: 14/30, Step 35/36 | Inputs torch.Size([4, 13]) | Labels torch.Size([4])\n",
            "Loss: 0.8380, Accuracy: 0.7465\n",
            "Epoch: 15/30, Step 5/36 | Inputs torch.Size([4, 13]) | Labels torch.Size([4])\n",
            "Epoch: 15/30, Step 10/36 | Inputs torch.Size([4, 13]) | Labels torch.Size([4])\n",
            "Epoch: 15/30, Step 15/36 | Inputs torch.Size([4, 13]) | Labels torch.Size([4])\n",
            "Epoch: 15/30, Step 20/36 | Inputs torch.Size([4, 13]) | Labels torch.Size([4])\n",
            "Epoch: 15/30, Step 25/36 | Inputs torch.Size([4, 13]) | Labels torch.Size([4])\n",
            "Epoch: 15/30, Step 30/36 | Inputs torch.Size([4, 13]) | Labels torch.Size([4])\n",
            "Epoch: 15/30, Step 35/36 | Inputs torch.Size([4, 13]) | Labels torch.Size([4])\n",
            "Loss: 0.8351, Accuracy: 0.6761\n",
            "Epoch: 16/30, Step 5/36 | Inputs torch.Size([4, 13]) | Labels torch.Size([4])\n",
            "Epoch: 16/30, Step 10/36 | Inputs torch.Size([4, 13]) | Labels torch.Size([4])\n",
            "Epoch: 16/30, Step 15/36 | Inputs torch.Size([4, 13]) | Labels torch.Size([4])\n",
            "Epoch: 16/30, Step 20/36 | Inputs torch.Size([4, 13]) | Labels torch.Size([4])\n",
            "Epoch: 16/30, Step 25/36 | Inputs torch.Size([4, 13]) | Labels torch.Size([4])\n",
            "Epoch: 16/30, Step 30/36 | Inputs torch.Size([4, 13]) | Labels torch.Size([4])\n",
            "Epoch: 16/30, Step 35/36 | Inputs torch.Size([4, 13]) | Labels torch.Size([4])\n",
            "Loss: 0.8330, Accuracy: 0.6972\n",
            "Epoch: 17/30, Step 5/36 | Inputs torch.Size([4, 13]) | Labels torch.Size([4])\n",
            "Epoch: 17/30, Step 10/36 | Inputs torch.Size([4, 13]) | Labels torch.Size([4])\n",
            "Epoch: 17/30, Step 15/36 | Inputs torch.Size([4, 13]) | Labels torch.Size([4])\n",
            "Epoch: 17/30, Step 20/36 | Inputs torch.Size([4, 13]) | Labels torch.Size([4])\n",
            "Epoch: 17/30, Step 25/36 | Inputs torch.Size([4, 13]) | Labels torch.Size([4])\n",
            "Epoch: 17/30, Step 30/36 | Inputs torch.Size([4, 13]) | Labels torch.Size([4])\n",
            "Epoch: 17/30, Step 35/36 | Inputs torch.Size([4, 13]) | Labels torch.Size([4])\n",
            "Loss: 0.8304, Accuracy: 0.7042\n",
            "Epoch: 18/30, Step 5/36 | Inputs torch.Size([4, 13]) | Labels torch.Size([4])\n",
            "Epoch: 18/30, Step 10/36 | Inputs torch.Size([4, 13]) | Labels torch.Size([4])\n",
            "Epoch: 18/30, Step 15/36 | Inputs torch.Size([4, 13]) | Labels torch.Size([4])\n",
            "Epoch: 18/30, Step 20/36 | Inputs torch.Size([4, 13]) | Labels torch.Size([4])\n",
            "Epoch: 18/30, Step 25/36 | Inputs torch.Size([4, 13]) | Labels torch.Size([4])\n",
            "Epoch: 18/30, Step 30/36 | Inputs torch.Size([4, 13]) | Labels torch.Size([4])\n",
            "Epoch: 18/30, Step 35/36 | Inputs torch.Size([4, 13]) | Labels torch.Size([4])\n",
            "Loss: 0.8223, Accuracy: 0.7113\n",
            "Epoch: 19/30, Step 5/36 | Inputs torch.Size([4, 13]) | Labels torch.Size([4])\n",
            "Epoch: 19/30, Step 10/36 | Inputs torch.Size([4, 13]) | Labels torch.Size([4])\n",
            "Epoch: 19/30, Step 15/36 | Inputs torch.Size([4, 13]) | Labels torch.Size([4])\n",
            "Epoch: 19/30, Step 20/36 | Inputs torch.Size([4, 13]) | Labels torch.Size([4])\n",
            "Epoch: 19/30, Step 25/36 | Inputs torch.Size([4, 13]) | Labels torch.Size([4])\n",
            "Epoch: 19/30, Step 30/36 | Inputs torch.Size([4, 13]) | Labels torch.Size([4])\n",
            "Epoch: 19/30, Step 35/36 | Inputs torch.Size([4, 13]) | Labels torch.Size([4])\n",
            "Loss: 0.8189, Accuracy: 0.7254\n",
            "Epoch: 20/30, Step 5/36 | Inputs torch.Size([4, 13]) | Labels torch.Size([4])\n",
            "Epoch: 20/30, Step 10/36 | Inputs torch.Size([4, 13]) | Labels torch.Size([4])\n",
            "Epoch: 20/30, Step 15/36 | Inputs torch.Size([4, 13]) | Labels torch.Size([4])\n",
            "Epoch: 20/30, Step 20/36 | Inputs torch.Size([4, 13]) | Labels torch.Size([4])\n",
            "Epoch: 20/30, Step 25/36 | Inputs torch.Size([4, 13]) | Labels torch.Size([4])\n",
            "Epoch: 20/30, Step 30/36 | Inputs torch.Size([4, 13]) | Labels torch.Size([4])\n",
            "Epoch: 20/30, Step 35/36 | Inputs torch.Size([4, 13]) | Labels torch.Size([4])\n",
            "Loss: 0.8126, Accuracy: 0.7394\n",
            "Epoch: 21/30, Step 5/36 | Inputs torch.Size([4, 13]) | Labels torch.Size([4])\n",
            "Epoch: 21/30, Step 10/36 | Inputs torch.Size([4, 13]) | Labels torch.Size([4])\n",
            "Epoch: 21/30, Step 15/36 | Inputs torch.Size([4, 13]) | Labels torch.Size([4])\n",
            "Epoch: 21/30, Step 20/36 | Inputs torch.Size([4, 13]) | Labels torch.Size([4])\n",
            "Epoch: 21/30, Step 25/36 | Inputs torch.Size([4, 13]) | Labels torch.Size([4])\n",
            "Epoch: 21/30, Step 30/36 | Inputs torch.Size([4, 13]) | Labels torch.Size([4])\n",
            "Epoch: 21/30, Step 35/36 | Inputs torch.Size([4, 13]) | Labels torch.Size([4])\n",
            "Loss: 0.8184, Accuracy: 0.7042\n",
            "Epoch: 22/30, Step 5/36 | Inputs torch.Size([4, 13]) | Labels torch.Size([4])\n",
            "Epoch: 22/30, Step 10/36 | Inputs torch.Size([4, 13]) | Labels torch.Size([4])\n",
            "Epoch: 22/30, Step 15/36 | Inputs torch.Size([4, 13]) | Labels torch.Size([4])\n",
            "Epoch: 22/30, Step 20/36 | Inputs torch.Size([4, 13]) | Labels torch.Size([4])\n",
            "Epoch: 22/30, Step 25/36 | Inputs torch.Size([4, 13]) | Labels torch.Size([4])\n",
            "Epoch: 22/30, Step 30/36 | Inputs torch.Size([4, 13]) | Labels torch.Size([4])\n",
            "Epoch: 22/30, Step 35/36 | Inputs torch.Size([4, 13]) | Labels torch.Size([4])\n",
            "Loss: 0.8263, Accuracy: 0.6549\n",
            "Epoch: 23/30, Step 5/36 | Inputs torch.Size([4, 13]) | Labels torch.Size([4])\n",
            "Epoch: 23/30, Step 10/36 | Inputs torch.Size([4, 13]) | Labels torch.Size([4])\n",
            "Epoch: 23/30, Step 15/36 | Inputs torch.Size([4, 13]) | Labels torch.Size([4])\n",
            "Epoch: 23/30, Step 20/36 | Inputs torch.Size([4, 13]) | Labels torch.Size([4])\n",
            "Epoch: 23/30, Step 25/36 | Inputs torch.Size([4, 13]) | Labels torch.Size([4])\n",
            "Epoch: 23/30, Step 30/36 | Inputs torch.Size([4, 13]) | Labels torch.Size([4])\n",
            "Epoch: 23/30, Step 35/36 | Inputs torch.Size([4, 13]) | Labels torch.Size([4])\n",
            "Loss: 0.8266, Accuracy: 0.6901\n",
            "Epoch: 24/30, Step 5/36 | Inputs torch.Size([4, 13]) | Labels torch.Size([4])\n",
            "Epoch: 24/30, Step 10/36 | Inputs torch.Size([4, 13]) | Labels torch.Size([4])\n",
            "Epoch: 24/30, Step 15/36 | Inputs torch.Size([4, 13]) | Labels torch.Size([4])\n",
            "Epoch: 24/30, Step 20/36 | Inputs torch.Size([4, 13]) | Labels torch.Size([4])\n",
            "Epoch: 24/30, Step 25/36 | Inputs torch.Size([4, 13]) | Labels torch.Size([4])\n",
            "Epoch: 24/30, Step 30/36 | Inputs torch.Size([4, 13]) | Labels torch.Size([4])\n",
            "Epoch: 24/30, Step 35/36 | Inputs torch.Size([4, 13]) | Labels torch.Size([4])\n",
            "Loss: 0.8261, Accuracy: 0.6761\n",
            "Epoch: 25/30, Step 5/36 | Inputs torch.Size([4, 13]) | Labels torch.Size([4])\n",
            "Epoch: 25/30, Step 10/36 | Inputs torch.Size([4, 13]) | Labels torch.Size([4])\n",
            "Epoch: 25/30, Step 15/36 | Inputs torch.Size([4, 13]) | Labels torch.Size([4])\n",
            "Epoch: 25/30, Step 20/36 | Inputs torch.Size([4, 13]) | Labels torch.Size([4])\n",
            "Epoch: 25/30, Step 25/36 | Inputs torch.Size([4, 13]) | Labels torch.Size([4])\n",
            "Epoch: 25/30, Step 30/36 | Inputs torch.Size([4, 13]) | Labels torch.Size([4])\n",
            "Epoch: 25/30, Step 35/36 | Inputs torch.Size([4, 13]) | Labels torch.Size([4])\n",
            "Loss: 0.8089, Accuracy: 0.7324\n",
            "Epoch: 26/30, Step 5/36 | Inputs torch.Size([4, 13]) | Labels torch.Size([4])\n",
            "Epoch: 26/30, Step 10/36 | Inputs torch.Size([4, 13]) | Labels torch.Size([4])\n",
            "Epoch: 26/30, Step 15/36 | Inputs torch.Size([4, 13]) | Labels torch.Size([4])\n",
            "Epoch: 26/30, Step 20/36 | Inputs torch.Size([4, 13]) | Labels torch.Size([4])\n",
            "Epoch: 26/30, Step 25/36 | Inputs torch.Size([4, 13]) | Labels torch.Size([4])\n",
            "Epoch: 26/30, Step 30/36 | Inputs torch.Size([4, 13]) | Labels torch.Size([4])\n",
            "Epoch: 26/30, Step 35/36 | Inputs torch.Size([4, 13]) | Labels torch.Size([4])\n",
            "Loss: 0.8152, Accuracy: 0.7042\n",
            "Epoch: 27/30, Step 5/36 | Inputs torch.Size([4, 13]) | Labels torch.Size([4])\n",
            "Epoch: 27/30, Step 10/36 | Inputs torch.Size([4, 13]) | Labels torch.Size([4])\n",
            "Epoch: 27/30, Step 15/36 | Inputs torch.Size([4, 13]) | Labels torch.Size([4])\n",
            "Epoch: 27/30, Step 20/36 | Inputs torch.Size([4, 13]) | Labels torch.Size([4])\n",
            "Epoch: 27/30, Step 25/36 | Inputs torch.Size([4, 13]) | Labels torch.Size([4])\n",
            "Epoch: 27/30, Step 30/36 | Inputs torch.Size([4, 13]) | Labels torch.Size([4])\n",
            "Epoch: 27/30, Step 35/36 | Inputs torch.Size([4, 13]) | Labels torch.Size([4])\n",
            "Loss: 0.8221, Accuracy: 0.7254\n",
            "Epoch: 28/30, Step 5/36 | Inputs torch.Size([4, 13]) | Labels torch.Size([4])\n",
            "Epoch: 28/30, Step 10/36 | Inputs torch.Size([4, 13]) | Labels torch.Size([4])\n",
            "Epoch: 28/30, Step 15/36 | Inputs torch.Size([4, 13]) | Labels torch.Size([4])\n",
            "Epoch: 28/30, Step 20/36 | Inputs torch.Size([4, 13]) | Labels torch.Size([4])\n",
            "Epoch: 28/30, Step 25/36 | Inputs torch.Size([4, 13]) | Labels torch.Size([4])\n",
            "Epoch: 28/30, Step 30/36 | Inputs torch.Size([4, 13]) | Labels torch.Size([4])\n",
            "Epoch: 28/30, Step 35/36 | Inputs torch.Size([4, 13]) | Labels torch.Size([4])\n",
            "Loss: 0.8022, Accuracy: 0.7465\n",
            "Epoch: 29/30, Step 5/36 | Inputs torch.Size([4, 13]) | Labels torch.Size([4])\n",
            "Epoch: 29/30, Step 10/36 | Inputs torch.Size([4, 13]) | Labels torch.Size([4])\n",
            "Epoch: 29/30, Step 15/36 | Inputs torch.Size([4, 13]) | Labels torch.Size([4])\n",
            "Epoch: 29/30, Step 20/36 | Inputs torch.Size([4, 13]) | Labels torch.Size([4])\n",
            "Epoch: 29/30, Step 25/36 | Inputs torch.Size([4, 13]) | Labels torch.Size([4])\n",
            "Epoch: 29/30, Step 30/36 | Inputs torch.Size([4, 13]) | Labels torch.Size([4])\n",
            "Epoch: 29/30, Step 35/36 | Inputs torch.Size([4, 13]) | Labels torch.Size([4])\n",
            "Loss: 0.8043, Accuracy: 0.7183\n",
            "Epoch: 30/30, Step 5/36 | Inputs torch.Size([4, 13]) | Labels torch.Size([4])\n",
            "Epoch: 30/30, Step 10/36 | Inputs torch.Size([4, 13]) | Labels torch.Size([4])\n",
            "Epoch: 30/30, Step 15/36 | Inputs torch.Size([4, 13]) | Labels torch.Size([4])\n",
            "Epoch: 30/30, Step 20/36 | Inputs torch.Size([4, 13]) | Labels torch.Size([4])\n",
            "Epoch: 30/30, Step 25/36 | Inputs torch.Size([4, 13]) | Labels torch.Size([4])\n",
            "Epoch: 30/30, Step 30/36 | Inputs torch.Size([4, 13]) | Labels torch.Size([4])\n",
            "Epoch: 30/30, Step 35/36 | Inputs torch.Size([4, 13]) | Labels torch.Size([4])\n",
            "Loss: 0.7852, Accuracy: 0.7887\n"
          ]
        }
      ]
    },
    {
      "cell_type": "code",
      "source": [
        "fig = plt.figure(figsize=(10, 4))\n",
        "fig.add_subplot(121)\n",
        "plt.plot(loss_list, label=\"Loss\")\n",
        "plt.legend()\n",
        "fig.add_subplot(122)\n",
        "plt.plot(acc_list, label=\"Acc\")\n",
        "plt.legend()\n",
        "plt.show()"
      ],
      "metadata": {
        "colab": {
          "base_uri": "https://localhost:8080/",
          "height": 368
        },
        "id": "dwTdTwpQRbfO",
        "outputId": "948907bf-d24b-41bc-fd8c-8ed5648a4311"
      },
      "execution_count": null,
      "outputs": [
        {
          "output_type": "display_data",
          "data": {
            "text/plain": [
              "<Figure size 1000x400 with 2 Axes>"
            ],
            "image/png": "[encoded data removed]"
          },
          "metadata": {}
        }
      ]
    },
    {
      "cell_type": "code",
      "source": [
        "inputs, labels = next(iter(test_loader))\n",
        "inputs, labels = inputs.to(device), labels.to(device)\n",
        "\n",
        "model_ft.eval()\n",
        "with torch.no_grad():\n",
        "  outputs = model_ft(inputs)\n",
        "\n",
        "  _, preds = torch.max(outputs, dim=1)\n",
        "\n",
        "print(\"Ground truth: \", labels.item())\n",
        "print(\"Prediction: \", preds.item())"
      ],
      "metadata": {
        "colab": {
          "base_uri": "https://localhost:8080/"
        },
        "id": "RtOCVL25aM2U",
        "outputId": "a0992fa9-f22c-436b-8d59-6d2ba300cf5d"
      },
      "execution_count": null,
      "outputs": [
        {
          "output_type": "stream",
          "name": "stdout",
          "text": [
            "Ground truth:  0\n",
            "Prediction:  0\n"
          ]
        }
      ]
    },
    {
      "cell_type": "markdown",
      "source": [
        "# 有名な公開データセットを使う\n",
        "PyTorch関連のライブラリでは，`torch.utils.data.Dataset`のサブクラスで，多くの読み込み済みのデータセット (ex. MNIST, CIFAR10, etc...) を提供しています．プロトタイプやベンチマークに使うことができると考えられる．次の項目から探すことができます．\n",
        "- [Image Datasets](https://pytorch.org/vision/stable/datasets.html)\n",
        "- [Text Datasets](https://pytorch.org/text/stable/datasets.html)\n",
        "- [Audio Datasets](https://pytorch.org/audio/stable/datasets.html)\n",
        "\n",
        "## ここでは，手書き文字認識の代表的なデータセットであるMNISTを読み込んでみる"
      ],
      "metadata": {
        "id": "DWf-MSf9aMRs"
      }
    },
    {
      "cell_type": "code",
      "source": [
        "train_dataset = torchvision.datasets.MNIST(root=\"./data\", # ダウンロードするtrain/testデータを格納するファイルパスを指定\n",
        "                                           train=True, # trainデータかtestデータか指定する．ベンチマークはテストデータが指定済みであるものが多い．\n",
        "                                           transform=torchvision.transforms.ToTensor(), # データとラベルに施す変換を指定する（次の人が説明するところ）．\n",
        "                                           download=True # rootで指定したパスから読み出せない場合，インターネットからダウンロードする\n",
        "                                           )\n",
        "\n",
        "train_dataset = torchvision.datasets.CIFAR10(root=\"./cifar10\",\n",
        "                                             train=True,\n",
        "                                             transform=torchvision.transforms.ToTensor(),\n",
        "                                             download=True)\n",
        "\n",
        "train_loader = DataLoader(dataset=train_dataset,\n",
        "                          batch_size=3,\n",
        "                          shuffle=True\n",
        "                          )"
      ],
      "metadata": {
        "id": "gWh7Q1FxX0BR",
        "colab": {
          "base_uri": "https://localhost:8080/"
        },
        "outputId": "51832538-0d2e-4c67-d58f-95357389b0fb"
      },
      "execution_count": null,
      "outputs": [
        {
          "output_type": "stream",
          "name": "stdout",
          "text": [
            "Downloading http://yann.lecun.com/exdb/mnist/train-images-idx3-ubyte.gz\n",
            "Downloading http://yann.lecun.com/exdb/mnist/train-images-idx3-ubyte.gz to ./data/MNIST/raw/train-images-idx3-ubyte.gz\n"
          ]
        },
        {
          "output_type": "stream",
          "name": "stderr",
          "text": [
            "100%|██████████| 9912422/9912422 [00:00<00:00, 101791477.93it/s]\n"
          ]
        },
        {
          "output_type": "stream",
          "name": "stdout",
          "text": [
            "Extracting ./data/MNIST/raw/train-images-idx3-ubyte.gz to ./data/MNIST/raw\n",
            "\n",
            "Downloading http://yann.lecun.com/exdb/mnist/train-labels-idx1-ubyte.gz\n",
            "Downloading http://yann.lecun.com/exdb/mnist/train-labels-idx1-ubyte.gz to ./data/MNIST/raw/train-labels-idx1-ubyte.gz\n"
          ]
        },
        {
          "output_type": "stream",
          "name": "stderr",
          "text": [
            "100%|██████████| 28881/28881 [00:00<00:00, 29238642.00it/s]\n"
          ]
        },
        {
          "output_type": "stream",
          "name": "stdout",
          "text": [
            "Extracting ./data/MNIST/raw/train-labels-idx1-ubyte.gz to ./data/MNIST/raw\n",
            "\n",
            "Downloading http://yann.lecun.com/exdb/mnist/t10k-images-idx3-ubyte.gz\n",
            "Downloading http://yann.lecun.com/exdb/mnist/t10k-images-idx3-ubyte.gz to ./data/MNIST/raw/t10k-images-idx3-ubyte.gz\n"
          ]
        },
        {
          "output_type": "stream",
          "name": "stderr",
          "text": [
            "100%|██████████| 1648877/1648877 [00:00<00:00, 28174194.69it/s]\n"
          ]
        },
        {
          "output_type": "stream",
          "name": "stdout",
          "text": [
            "Extracting ./data/MNIST/raw/t10k-images-idx3-ubyte.gz to ./data/MNIST/raw\n",
            "\n",
            "Downloading http://yann.lecun.com/exdb/mnist/t10k-labels-idx1-ubyte.gz\n",
            "Downloading http://yann.lecun.com/exdb/mnist/t10k-labels-idx1-ubyte.gz to ./data/MNIST/raw/t10k-labels-idx1-ubyte.gz\n"
          ]
        },
        {
          "output_type": "stream",
          "name": "stderr",
          "text": [
            "100%|██████████| 4542/4542 [00:00<00:00, 4877247.51it/s]\n"
          ]
        },
        {
          "output_type": "stream",
          "name": "stdout",
          "text": [
            "Extracting ./data/MNIST/raw/t10k-labels-idx1-ubyte.gz to ./data/MNIST/raw\n",
            "\n",
            "Downloading https://www.cs.toronto.edu/~kriz/cifar-10-python.tar.gz to ./cifar10/cifar-10-python.tar.gz\n"
          ]
        },
        {
          "output_type": "stream",
          "name": "stderr",
          "text": [
            "100%|██████████| 170498071/170498071 [00:09<00:00, 18083890.51it/s]\n"
          ]
        },
        {
          "output_type": "stream",
          "name": "stdout",
          "text": [
            "Extracting ./cifar10/cifar-10-python.tar.gz to ./cifar10\n"
          ]
        }
      ]
    },
    {
      "cell_type": "code",
      "source": [
        "inputs, labels = next(iter(train_loader))\n",
        "print(inputs.device)\n",
        "print(inputs.shape, labels.shape)\n",
        "\n",
        "plt.figure()\n",
        "plt.imshow(inputs[0].permute(1, 2, 0).numpy(), cmap=\"gray\")\n",
        "plt.title(labels[0].numpy())\n",
        "plt.show()"
      ],
      "metadata": {
        "colab": {
          "base_uri": "https://localhost:8080/",
          "height": 488
        },
        "id": "qDLjPj1ssgxx",
        "outputId": "3168f31e-db3c-40c7-f305-8ab08528c28f"
      },
      "execution_count": null,
      "outputs": [
        {
          "output_type": "stream",
          "name": "stdout",
          "text": [
            "cpu\n",
            "torch.Size([3, 3, 32, 32]) torch.Size([3])\n"
          ]
        },
        {
          "output_type": "display_data",
          "data": {
            "text/plain": [
              "<Figure size 640x480 with 1 Axes>"
            ],
            "image/png": "[encoded data removed]"
          },
          "metadata": {}
        }
      ]
    },
    {
      "cell_type": "markdown",
      "source": [
        "# Appendix"
      ],
      "metadata": {
        "id": "7as3oXEAAKeJ"
      }
    },
    {
      "cell_type": "markdown",
      "source": [
        "## DataLoaderから読み出す度にGPUに載せないといけないけど、最初から載せられないの？\n",
        "- 今、DataLoaderの宣言時にdeviceを指定する仕様について議論が行われており、開発が進んでいます。\n",
        "[URL](https://github.com/pytorch/pytorch/pull/40746)\n",
        "- また、別の解決策もあります。それは、Datasetのクラス変数またはインスタンス変数として持っているtorch.Tensorを`to(deivce)`でGPUに載せるという方法です。[URL](https://stackoverflow.com/questions/65327247/load-pytorch-dataloader-into-gpu)\n",
        "  - しかしながら、この方法は一部の前処理やDataLoaderの設定である`num_workers`や`pin_memory`を使えなくなるため、やはりまだDataLoaderから読み出した後にGPUに載せる方が良いでしょう。\n",
        "  - ただし、`torchvision.datasets`のDatasetではできなかった。おそらくクラスの定義で変数を変更できないようにしているのでしょう。"
      ],
      "metadata": {
        "id": "V2moCbAi-clV"
      }
    },
    {
      "cell_type": "code",
      "source": [
        "dataset = WineDataset(data_folder_path)\n",
        "\n",
        "dataset.x_data = dataset.x_data.to(device)\n",
        "dataset.y_data = dataset.y_data.to(device)\n",
        "\n",
        "dataloader = DataLoader(dataset=dataset,\n",
        "                          batch_size=4,\n",
        "                          shuffle=True,\n",
        "                          )\n",
        "\n",
        "features, labels = next(iter(dataloader))\n",
        "\n",
        "print(features.shape)\n",
        "print(features)\n",
        "print(labels.shape)\n",
        "print(labels)"
      ],
      "metadata": {
        "id": "th4yR4j3_LQz"
      },
      "execution_count": null,
      "outputs": []
    },
    {
      "cell_type": "markdown",
      "source": [
        "## データ集合からのサンプリング手法は指定できないの？\n",
        "- `torch.utils.data.DataLoader`クラスは`sampler`引数を用いてSamplerオブジェクトを指定することができます．\n",
        "- `torch.utils.data.Sampler`クラスは，データの読み込みに使われるindexなどのsequenceを指定するために使われます．これはデータセットへのindexを反復するオブジェクトを表します．例えば，\n",
        "  - SGDの場合，Samplerはindexのリストをランダムに並び替え，一度に1つずつ取得する\n",
        "  - ミニバッチSGDの場合，少数のindexを取得する\n",
        "- また，`torch.utils.data.DataLoader`クラスの`batch_sampler`引数を用いて，一度に複数のindexを取得するSamplerオブジェクトを指定することができます．\n",
        "- `DataLoader()`の引数で`shuffle=False`と指定した場合，データセットから順番に読み込む`SequentialSampler`，`shuffle=True`と指定した場合，重複無しでランダムな順番で読み込む`RandomSampler`が使用されます．"
      ],
      "metadata": {
        "id": "5xyNRM5cGoie"
      }
    },
    {
      "cell_type": "code",
      "source": [
        "dataset = WineDataset(data_folder_path)\n",
        "\n",
        "class SequentialSampler(torch.utils.data.Sampler):\n",
        "  def __init__(self, dataset):\n",
        "    self.dataset = dataset\n",
        "\n",
        "  def __iter__(self):\n",
        "    return iter(range(len(self.dataset)))\n",
        "\n",
        "sampler = SequentialSampler(dataset)\n",
        "\n",
        "for i in sampler:\n",
        "  print(i, end=\" \")\n",
        "print()\n",
        "\n",
        "batch_size=1\n",
        "dataloader = DataLoader(dataset=dataset,\n",
        "                        batch_size=batch_size,\n",
        "                        shuffle=(sampler is None),\n",
        "                        sampler=sampler,\n",
        "                          )\n",
        "\n",
        "dataloader_iter = iter(dataloader)\n",
        "for i in range(2):\n",
        "  print(dataset[i*batch_size:(i+1)*batch_size])\n",
        "  print(next(dataloader_iter))"
      ],
      "metadata": {
        "id": "ERaxaUACGpeH"
      },
      "execution_count": null,
      "outputs": []
    },
    {
      "cell_type": "code",
      "source": [
        "class SequentialBatchSampler(torch.utils.data.Sampler):\n",
        "  def __init__(self, dataset, batch_size):\n",
        "    self.dataset = dataset\n",
        "    self.batch_size = batch_size\n",
        "    self.count = 0\n",
        "    self.total_batches = len(self.dataset) // self.batch_size\n",
        "\n",
        "  def __iter__(self):\n",
        "    batches_list = []\n",
        "    batch_head = 0\n",
        "    for i in range(self.total_batches):\n",
        "      batches_list.append(list(range(batch_head, self.batch_size*(i+1))))\n",
        "      batch_head = self.batch_size*(i+1)\n",
        "    else:\n",
        "      batches_list.append(list(range(batch_head, len(self.dataset))))\n",
        "\n",
        "    return iter(batches_list)\n",
        "\n",
        "  def __len__(self):\n",
        "    return self.total_batches\n",
        "\n",
        "batch_size=4\n",
        "batch_sampler = SequentialBatchSampler(dataset, batch_size)\n",
        "# batch_sampler = torch.utils.data.sampler.BatchSampler(sampler, batch_size, drop_last=False)\n",
        "batch_dataloader = DataLoader(dataset=dataset,\n",
        "                              shuffle=(batch_sampler is None),\n",
        "                              batch_sampler=batch_sampler\n",
        "                              )\n",
        "\n",
        "for i in batch_sampler:\n",
        "  print(i, end=\" \")\n",
        "print()\n",
        "\n",
        "batchloader_iter = iter(batch_dataloader)\n",
        "for i in range(2):\n",
        "  print(dataset[i*batch_size:(i+1)*batch_size])\n",
        "  print(next(batchloader_iter))"
      ],
      "metadata": {
        "id": "0LYHfTM41P_C"
      },
      "execution_count": null,
      "outputs": []
    },
    {
      "cell_type": "markdown",
      "source": [
        "# Reference\n",
        "1. Patrick Python Engineer, \"Dataset And Dataloader - PyTorch Beginner 09\", \"Python Engineer\", https://www.python-engineer.com/courses/pytorchbeginner/09-dataset-and-dataloader/\n",
        "2. PyTorch, \"DATASETS & DATALOADERS\", \"PyTorch Tutorials 1.11.0+cu102\", https://pytorch.org/tutorials/beginner/basics/data_tutorial.html\n",
        "3. Geoffrey Hinton, \"Overview of mini batch gradient descent\", Neural Networks for Machine Learning on Coursera in 2012, Lecture 6.1, https://www.youtube.com/watch?v=4BZBog1Zx6c&ab_channel=ColinReckons\n",
        "4. 岡谷貴之, \"深層学習\", 機械学習プロフェッショナルシリーズ，講談社，p23-39, (※補足　slideshareでここを解説したスライドがあったので共有します．https://www.slideshare.net/zakktakk/chapter3-62337101)\n",
        "5. Sebastian Ruder, \"An overview of gradient descent optimization algorithms\", arxiv, 2016, https://arxiv.org/abs/1609.04747\n",
        "6. xiongjie, \"PytorchのDataLoaderの高速化のコツについてすこし解説\", Zenn, 2022/04/10, https://zenn.dev/xiongjie/articles/0ae1378feb4204\n",
        "7. Pystyle, \"Pytorch - DataLoaderの使い方について解説\", 2022/04/25, https://pystyle.info/pytorch-dataloader/#outline__8\n",
        "8. @sugulu_Ogawa_ISID, \"PyTorchでの学習・推論を高速化するコツ集\", Qiita, 2020/09/08, 更新日2022/06/03, https://qiita.com/sugulu_Ogawa_ISID/items/62f5f7adee083d96a587\n",
        "9. PyTorch, \"torch.utils.data\", \"PyTorch Tutorials 1.11.0+cu102\", https://pytorch.org/docs/stable/data.html#\n",
        "10. Scott Condron, \"But what are PyTorch DataLoaders really?\", Scott Condron's Blog, https://www.scottcondron.com/jupyter/visualisation/audio/2020/12/02/dataloaders-samplers-collate.html#Custom-Batch-Sampler"
      ],
      "metadata": {
        "id": "8lCmtEyrI0YR"
      }
    }
  ]
}