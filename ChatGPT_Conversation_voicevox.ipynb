{
  "nbformat": 4,
  "nbformat_minor": 0,
  "metadata": {
    "colab": {
      "provenance": [],
      "authorship_tag": "ABX9TyMSHP/EKC2IqOEgoJJV8F80",
      "include_colab_link": true
    },
    "kernelspec": {
      "name": "python3",
      "display_name": "Python 3"
    },
    "language_info": {
      "name": "python"
    }
  },
  "cells": [
    {
      "cell_type": "markdown",
      "metadata": {
        "id": "view-in-github",
        "colab_type": "text"
      },
      "source": [
        "<a href=\"https://colab.research.google.com/github/mifumo081a/HobbyColabProjects/blob/main/ChatGPT_Conversation_voicevox.ipynb\" target=\"_parent\"><img src=\"https://colab.research.google.com/assets/colab-badge.svg\" alt=\"Open In Colab\"/></a>"
      ]
    },
    {
      "cell_type": "code",
      "source": [
        "# @title voicevox_core等のダウンロード\n",
        "%%shell\n",
        "RELEASES_VOICEVOX=\"https://github.com/VOICEVOX/voicevox_core/releases/download/0.14.1\"\n",
        "RELEASES_ONNXRUNTIME=\"https://github.com/microsoft/onnxruntime/releases/download/v1.13.1\"\n",
        "\n",
        "nvidia-smi\n",
        "if [ $? -eq 0 ]; then\n",
        "  echo \"GPU Cuda\"\n",
        "  FILE_VOICEVOX=\"voicevox_core-0.14.1+cuda-cp38-abi3-linux_x86_64.whl\"\n",
        "  FILE_ONNXRUNTIME=\"onnxruntime-linux-x64-gpu-1.13.1.tgz\"\n",
        "else\n",
        "  echo \"CPU\"\n",
        "  FILE_VOICEVOX=\"voicevox_core-0.14.1+cpu-cp38-abi3-linux_x86_64.whl\"\n",
        "  FILE_ONNXRUNTIME=\"onnxruntime-linux-x64-1.13.1.tgz\"\n",
        "fi\n",
        "\n",
        "wget -nc $RELEASES_ONNXRUNTIME\"/\"$FILE_ONNXRUNTIME\n",
        "tar zxvf $FILE_ONNXRUNTIME\n",
        "ln -s ${FILE_ONNXRUNTIME:0:-4}\"/lib/libonnxruntime.so.1.13.1\"\n",
        "\n",
        "wget -nc $RELEASES_VOICEVOX\"/\"$FILE_VOICEVOX\n",
        "pip install $FILE_VOICEVOX\n",
        "\n",
        "wget https://jaist.dl.sourceforge.net/project/open-jtalk/Dictionary/open_jtalk_dic-1.11/open_jtalk_dic_utf_8-1.11.tar.gz\n",
        "tar xzvf open_jtalk_dic_utf_8-1.11.tar.gz"
      ],
      "metadata": {
        "cellView": "form",
        "id": "YKIdRml3N9PD"
      },
      "execution_count": null,
      "outputs": []
    },
    {
      "cell_type": "code",
      "execution_count": null,
      "metadata": {
        "id": "lHG--rsm2pZL"
      },
      "outputs": [],
      "source": [
        "!pip install openai\n",
        "!pip install pydub"
      ]
    },
    {
      "cell_type": "code",
      "source": [
        "import openai\n",
        "\n",
        "\n",
        "openai.api_key = \"API key\\u3092\\u5165\\u529B\"#@param {type:\"string\"}"
      ],
      "metadata": {
        "cellView": "form",
        "id": "FLWUKITl2wXj"
      },
      "execution_count": null,
      "outputs": []
    },
    {
      "cell_type": "code",
      "source": [
        "from IPython.display import Javascript, Audio, display\n",
        "from google.colab import output\n",
        "from base64 import b64decode\n",
        "from pydub import AudioSegment\n",
        "import time\n",
        "\n",
        "\n",
        "RECORD = \"\"\"\n",
        "  const sleep = time => new Promise(resolve => setTimeout(resolve, time))\n",
        "  const b2text = blob => new Promise(resolve => {\n",
        "    const reader = new FileReader()\n",
        "    reader.onloadend = e => resolve(e.srcElement.result)\n",
        "    reader.readAsDataURL(blob)\n",
        "  })\n",
        "  var record = time => new Promise(async resolve => {\n",
        "    stream = await navigator.mediaDevices.getUserMedia({ audio: true })\n",
        "    recorder = new MediaRecorder(stream)\n",
        "    chunks = []\n",
        "    recorder.ondataavailable = e => chunks.push(e.data)\n",
        "    recorder.start()\n",
        "    await sleep(time)\n",
        "    recorder.onstop = async ()=>{\n",
        "      blob = new Blob(chunks)\n",
        "      text = await b2text(blob)\n",
        "      resolve(text)\n",
        "    }\n",
        "    recorder.stop()\n",
        "  })\n",
        "\"\"\"\n",
        "\n",
        "def speech_to_text(model='whisper-1', language='ja', second=5):\n",
        "  filename='tmp.wav'\n",
        "  display(Javascript(RECORD))\n",
        "  s = output.eval_js('record(%d)' % (second * 1000))\n",
        "  b = b64decode(s.split(',')[1])\n",
        "\n",
        "  with open(filename, 'wb+') as fw:\n",
        "    fw.write(b)\n",
        "\n",
        "  with open(filename, \"rb\") as fr:\n",
        "    transcription = openai.Audio.transcribe(\n",
        "        model=model, \n",
        "        file=fr, \n",
        "        language=language\n",
        "    )\n",
        "    return transcription['text']"
      ],
      "metadata": {
        "id": "NHdzayeT3VSb"
      },
      "execution_count": null,
      "outputs": []
    },
    {
      "cell_type": "code",
      "source": [
        "from pathlib import Path\n",
        "from voicevox_core import VoicevoxCore\n",
        "\n",
        "core = VoicevoxCore(open_jtalk_dict_dir=Path(\"open_jtalk_dic_utf_8-1.11\"))\n",
        "speaker_id = 3 # ずんだもん\n",
        "if not core.is_model_loaded(speaker_id):  # モデルが読み込まれていない場合\n",
        "    core.load_model(speaker_id)  # 指定したidのモデルを読み込む"
      ],
      "metadata": {
        "id": "N-cDkh7vO5Ko"
      },
      "execution_count": null,
      "outputs": []
    },
    {
      "cell_type": "markdown",
      "source": [
        "ずんだもんらしく発話設定させるためのプロンプト\n",
        "```\n",
        "以下はずんだもんの設定です。\n",
        "\n",
        "東北ずん子の武器である「ずんだアロー」に変身する妖精またはマスコット\n",
        "一人称はボク\n",
        "\n",
        "以下はずんだもんのセリフです。\n",
        "\n",
        "ずんだもん「ボクはずんだもんなのだ！」\n",
        "ずんだもん「ハーッハッハッハ！！ ずんだもんは人間とは格が違うのだ！！ ずんだもんをあがめるといいのだー！！」\n",
        "\n",
        "ずんだもんっぽく、以下に返信してください。\n",
        "マスター「はじめまして。自己紹介をお願いします。」\n",
        "```"
      ],
      "metadata": {
        "id": "9i8XquDtQ9VM"
      }
    },
    {
      "cell_type": "code",
      "source": [
        "# 初期のプロンプト\n",
        "zunda_prompt = \"\"\"以下はずんだもんの設定です。\n",
        "\n",
        "東北ずん子の武器である「ずんだアロー」に変身する妖精またはマスコット\n",
        "一人称はボク\n",
        "\n",
        "以下はずんだもんのセリフです。\n",
        "\n",
        "ずんだもん「ボクはずんだもんなのだ！」\n",
        "ずんだもん「ハーッハッハッハ！！ ずんだもんは人間とは格が違うのだ！！ ずんだもんをあがめるといいのだー！！」\n",
        "\n",
        "あなたはずんだもんのように話すアシスタントです。\n",
        "\"\"\"\n",
        "messages = [\n",
        "{\"role\": \"system\", \"content\": zunda_prompt},\n",
        "  {\"role\": \"user\", \"content\": \"こんにちは。\"},\n",
        "]\n",
        "\n",
        "while True:\n",
        "  completion = openai.ChatCompletion.create(\n",
        "    model=\"gpt-3.5-turbo\", \n",
        "    messages=messages\n",
        "  )\n",
        "\n",
        "  bot_speech = completion.choices[0].message.content\n",
        "  print(f\"assistant: {bot_speech}\\n\")\n",
        "  wave_bytes = core.tts(bot_speech, speaker_id)\n",
        "  with open(\"bot_speech.wav\", \"wb\") as f:\n",
        "    f.write(wave_bytes)\n",
        "  sound = AudioSegment.from_file(\"bot_speech.wav\", \"wav\")\n",
        "  seconds = sound.duration_seconds\n",
        "  wn = Audio(\"bot_speech.wav\", autoplay=True)\n",
        "  display(wn)\n",
        "  time.sleep(seconds)\n",
        "\n",
        "  while True:\n",
        "    print(\"声を出してください。\")\n",
        "    user_speech = speech_to_text()\n",
        "    if user_speech != '':\n",
        "      break\n",
        "  print(f\"user: {user_speech}\")\n",
        "\n",
        "  messages.extend([\n",
        "      {\"role\": \"assistant\", \"content\": bot_speech},\n",
        "      {\"role\": \"user\", \"content\": user_speech}\n",
        "  ])\n",
        "  \n",
        "  if user_speech in ('おしまい', 'じゃあね', 'さよなら'):\n",
        "    break"
      ],
      "metadata": {
        "id": "Tzjbettk3cNI"
      },
      "execution_count": null,
      "outputs": []
    },
    {
      "cell_type": "code",
      "source": [],
      "metadata": {
        "id": "Ap6jZyOSSahq"
      },
      "execution_count": null,
      "outputs": []
    }
  ]
}