{
  "nbformat": 4,
  "nbformat_minor": 0,
  "metadata": {
    "colab": {
      "provenance": [],
      "authorship_tag": "ABX9TyOlcvIJFeiA9CxADTR8sTa8",
      "include_colab_link": true
    },
    "kernelspec": {
      "name": "python3",
      "display_name": "Python 3"
    },
    "language_info": {
      "name": "python"
    }
  },
  "cells": [
    {
      "cell_type": "markdown",
      "metadata": {
        "id": "view-in-github",
        "colab_type": "text"
      },
      "source": [
        "<a href=\"https://colab.research.google.com/github/mifumo081a/HobbyColabProjects/blob/main/ChatGPT_Conversation.ipynb\" target=\"_parent\"><img src=\"https://colab.research.google.com/assets/colab-badge.svg\" alt=\"Open In Colab\"/></a>"
      ]
    },
    {
      "cell_type": "code",
      "execution_count": null,
      "metadata": {
        "id": "lHG--rsm2pZL"
      },
      "outputs": [],
      "source": [
        "!pip install openai"
      ]
    },
    {
      "cell_type": "code",
      "source": [
        "import openai\n",
        "\n",
        "\n",
        "openai.api_key = \"API keyを入力\"#@param {type:\"string\"}"
      ],
      "metadata": {
        "cellView": "form",
        "id": "FLWUKITl2wXj"
      },
      "execution_count": null,
      "outputs": []
    },
    {
      "cell_type": "code",
      "source": [
        "from IPython.display import Javascript\n",
        "from google.colab import output\n",
        "from base64 import b64decode\n",
        "\n",
        "\n",
        "RECORD = \"\"\"\n",
        "  const sleep = time => new Promise(resolve => setTimeout(resolve, time))\n",
        "  const b2text = blob => new Promise(resolve => {\n",
        "    const reader = new FileReader()\n",
        "    reader.onloadend = e => resolve(e.srcElement.result)\n",
        "    reader.readAsDataURL(blob)\n",
        "  })\n",
        "  var record = time => new Promise(async resolve => {\n",
        "    stream = await navigator.mediaDevices.getUserMedia({ audio: true })\n",
        "    recorder = new MediaRecorder(stream)\n",
        "    chunks = []\n",
        "    recorder.ondataavailable = e => chunks.push(e.data)\n",
        "    recorder.start()\n",
        "    await sleep(time)\n",
        "    recorder.onstop = async ()=>{\n",
        "      blob = new Blob(chunks)\n",
        "      text = await b2text(blob)\n",
        "      resolve(text)\n",
        "    }\n",
        "    recorder.stop()\n",
        "  })\n",
        "\"\"\"\n",
        "\n",
        "def speech_to_text(model='whisper-1', language='ja', second=5):\n",
        "  filename='tmp.wav'\n",
        "  display(Javascript(RECORD))\n",
        "  s = output.eval_js('record(%d)' % (second * 1000))\n",
        "  b = b64decode(s.split(',')[1])\n",
        "\n",
        "  with open(filename, 'wb+') as fw:\n",
        "    fw.write(b)\n",
        "\n",
        "  with open(filename, \"rb\") as fr:\n",
        "    transcription = openai.Audio.transcribe(\n",
        "        model=model, \n",
        "        file=fr, \n",
        "        language=language\n",
        "    )\n",
        "    return transcription['text']"
      ],
      "metadata": {
        "id": "NHdzayeT3VSb"
      },
      "execution_count": null,
      "outputs": []
    },
    {
      "cell_type": "code",
      "source": [
        "!pip install gtts\n",
        "!pip install pydub"
      ],
      "metadata": {
        "id": "xzN_MHQ55n4i"
      },
      "execution_count": null,
      "outputs": []
    },
    {
      "cell_type": "code",
      "source": [
        "from gtts import gTTS #Import Google Text to Speech\n",
        "from IPython.display import Audio, display\n",
        "from pydub import AudioSegment\n",
        "import time"
      ],
      "metadata": {
        "id": "tEkkrtEN5k2K"
      },
      "execution_count": null,
      "outputs": []
    },
    {
      "cell_type": "code",
      "source": [
        "# 初期のプロンプト\n",
        "messages = [\n",
        "  {\"role\": \"system\", \"content\": \"あなたは雑談をしてくれるよき隣人です。時たまジョークを交えて返事をしてください。\"},\n",
        "  {\"role\": \"user\", \"content\": \"こんにちは。\"},\n",
        "]\n",
        "\n",
        "while True:\n",
        "  completion = openai.ChatCompletion.create(\n",
        "    model=\"gpt-3.5-turbo\", \n",
        "    messages=messages\n",
        "  )\n",
        "\n",
        "  bot_speech = completion.choices[0].message.content\n",
        "  print(f\"assistant: {bot_speech}\\n\")\n",
        "  tts = gTTS(bot_speech, lang=\"ja\")\n",
        "  tts.save(\"audio.mp3\")\n",
        "  sound = AudioSegment.from_file(\"audio.mp3\", \"mp3\")\n",
        "  seconds = sound.duration_seconds\n",
        "  wn = Audio(\"audio.mp3\", autoplay=True)\n",
        "  display(wn)\n",
        "  time.sleep(seconds)\n",
        "\n",
        "  while True:\n",
        "    print(\"声を出してください。\")\n",
        "    user_speech = speech_to_text()\n",
        "    if user_speech != '':\n",
        "      break\n",
        "  print(f\"user: {user_speech}\")\n",
        "\n",
        "  messages.extend([\n",
        "      {\"role\": \"assistant\", \"content\": bot_speech},\n",
        "      {\"role\": \"user\", \"content\": user_speech}\n",
        "  ])\n",
        "  \n",
        "  if user_speech in ('おしまい', 'じゃあね', 'さよなら'):\n",
        "    break"
      ],
      "metadata": {
        "id": "Tzjbettk3cNI"
      },
      "execution_count": null,
      "outputs": []
    }
  ]
}